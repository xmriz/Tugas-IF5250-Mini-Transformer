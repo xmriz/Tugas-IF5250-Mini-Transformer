{
 "cells": [
  {
   "cell_type": "markdown",
   "id": "d1e27dd9",
   "metadata": {},
   "source": [
    "# **Mini Transformer for Dialogue Generation**"
   ]
  },
  {
   "cell_type": "markdown",
   "id": "37645314",
   "metadata": {},
   "source": [
    "## **1. Import Library & Seed**"
   ]
  },
  {
   "cell_type": "code",
   "execution_count": null,
   "id": "f40ffdcd",
   "metadata": {
    "vscode": {
     "languageId": "plaintext"
    }
   },
   "outputs": [],
   "source": [
    "import math, random\n",
    "import numpy as np\n",
    "import torch, torch.nn as nn, torch.optim as optim\n",
    "from torch.utils.data import Dataset, DataLoader\n",
    "from datasets import load_dataset\n",
    "import evaluate\n",
    "\n",
    "# Reproducibility\n",
    "seed = 42\n",
    "random.seed(seed); np.random.seed(seed); torch.manual_seed(seed)\n",
    "if torch.cuda.is_available(): torch.cuda.manual_seed_all(seed)\n",
    "device = torch.device('cuda' if torch.cuda.is_available() else 'cpu')\n",
    "print(\"Using device:\", device)\n"
   ]
  },
  {
   "cell_type": "markdown",
   "id": "15af9e52",
   "metadata": {},
   "source": [
    "## **2. Import Library & Seed**"
   ]
  },
  {
   "cell_type": "code",
   "execution_count": null,
   "id": "ad193e99",
   "metadata": {
    "vscode": {
     "languageId": "plaintext"
    }
   },
   "outputs": [],
   "source": [
    "# Load DailyDialog\n",
    "raw = load_dataset('li2017dailydialog/daily_dialog')  # train/validation/test :contentReference[oaicite:6]{index=6}\n",
    "\n",
    "def preprocess(example):\n",
    "    toks = ['<bos>']\n",
    "    for utt in example['dialog']:\n",
    "        toks += utt.split() + ['<sep>']\n",
    "    toks[-1] = '<eos>'\n",
    "    return {'tokens': toks}\n",
    "\n",
    "train_raw = raw['train'].map(preprocess).select(range(5000))\n",
    "val_raw   = raw['validation'].map(preprocess).select(range(1000))\n",
    "print(f\"Train: {len(train_raw)}, Val: {len(val_raw)}\")"
   ]
  },
  {
   "cell_type": "markdown",
   "id": "a15e6c14",
   "metadata": {},
   "source": [
    "## **3. PyTorch Dataset & DataLoader**"
   ]
  },
  {
   "cell_type": "code",
   "execution_count": null,
   "id": "f10f344b",
   "metadata": {
    "vscode": {
     "languageId": "plaintext"
    }
   },
   "outputs": [],
   "source": [
    "class DialogDataset(Dataset):\n",
    "    def __init__(self, data, toi, max_len=64):\n",
    "        self.data, self.toi, self.max_len = data, toi, max_len\n",
    "\n",
    "    def __len__(self): return len(self.data)\n",
    "\n",
    "    def encode(self, toks):\n",
    "        ids = [self.toi.get(t, self.toi['<unk>']) for t in toks]\n",
    "        if len(ids)>self.max_len: ids=ids[:self.max_len]\n",
    "        else: ids += [self.toi['<pad>']]*(self.max_len-len(ids))\n",
    "        return ids\n",
    "\n",
    "    def __getitem__(self, idx):\n",
    "        ids = self.encode(self.data[idx]['tokens'])\n",
    "        x = torch.tensor(ids[:-1], dtype=torch.long)\n",
    "        y = torch.tensor(ids[1:],  dtype=torch.long)\n",
    "        return x, y\n",
    "\n",
    "train_ds = DialogDataset(train_raw, toi)\n",
    "val_ds   = DialogDataset(val_raw,   toi)\n",
    "train_loader = DataLoader(train_ds, batch_size=32, shuffle=True)\n",
    "val_loader   = DataLoader(val_ds,   batch_size=32)\n"
   ]
  },
  {
   "cell_type": "markdown",
   "id": "fb95b62c",
   "metadata": {},
   "source": [
    "## **6. Positional Encoding Varian**"
   ]
  },
  {
   "cell_type": "markdown",
   "id": "88f8f4a0",
   "metadata": {},
   "source": [
    "### 6.1 Sinusoidal"
   ]
  },
  {
   "cell_type": "code",
   "execution_count": null,
   "id": "678c0250",
   "metadata": {
    "vscode": {
     "languageId": "plaintext"
    }
   },
   "outputs": [],
   "source": [
    "class SinusoidalPE(nn.Module):\n",
    "    def __init__(self, d_model, max_len=64):\n",
    "        super().__init__()\n",
    "        pos = torch.arange(max_len).unsqueeze(1)\n",
    "        i   = torch.arange(d_model//2).unsqueeze(0)\n",
    "        angles = pos / (10000**(2*i/d_model))\n",
    "        pe = torch.zeros(max_len, d_model)\n",
    "        pe[:,0::2], pe[:,1::2] = torch.sin(angles), torch.cos(angles)\n",
    "        self.pe = pe.unsqueeze(0).to(device)\n",
    "\n",
    "    def forward(self, x): return x + self.pe[:,:x.size(1),:]"
   ]
  },
  {
   "cell_type": "markdown",
   "id": "c608491c",
   "metadata": {},
   "source": [
    "### 6.1 Learnable"
   ]
  },
  {
   "cell_type": "markdown",
   "id": "c5f729d3",
   "metadata": {},
   "source": [
    "class LearnablePE(nn.Module):\n",
    "    def __init__(self, max_len, d_model):\n",
    "        super().__init__()\n",
    "        self.embed = nn.Embedding(max_len, d_model)\n",
    "    def forward(self, x):\n",
    "        pos = torch.arange(x.size(1), device=x.device).unsqueeze(0)\n",
    "        return self.embed(pos)\n"
   ]
  }
 ],
 "metadata": {
  "language_info": {
   "name": "python"
  }
 },
 "nbformat": 4,
 "nbformat_minor": 5
}
