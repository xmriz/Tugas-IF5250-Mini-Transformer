{
 "cells": [
  {
   "cell_type": "markdown",
   "id": "d1e27dd9",
   "metadata": {},
   "source": [
    "# **Mini Transformer for Dialogue Generation**"
   ]
  },
  {
   "cell_type": "markdown",
   "id": "adac1a4e",
   "metadata": {},
   "source": [
    "## **Ringkasan Teori**\n",
    "\n",
    "Decoder-Only Transformer: hanya decoder stack dengan\n",
    "- Token & Positional Embedding\n",
    "- Masked Multi-Head Self-Attention\n",
    "- Feed-Forward Network\n",
    "- Residual + LayerNorm\n",
    " \n",
    "Varian:\n",
    "- vanilla_small / vanilla_big\n",
    "- relpos_small / relpos_big (dengan relative positional bias)"
   ]
  },
  {
   "cell_type": "markdown",
   "id": "c109d395",
   "metadata": {},
   "source": [
    "## **Setup**"
   ]
  },
  {
   "cell_type": "code",
   "execution_count": null,
   "id": "f4f8939b",
   "metadata": {},
   "outputs": [],
   "source": [
    "import math, random\n",
    "import torch\n",
    "import torch.nn as nn\n",
    "from torch.utils.data import Dataset, DataLoader, random_split\n",
    "from datasets import load_dataset\n",
    "from tqdm import tqdm\n",
    "from collections import Counter\n",
    "import matplotlib.pyplot as plt\n",
    "import evaluate\n",
    "import pandas as pd"
   ]
  },
  {
   "cell_type": "code",
   "execution_count": 32,
   "id": "7f46f636",
   "metadata": {},
   "outputs": [],
   "source": [
    "def set_seed(s=42):\n",
    "    random.seed(s)\n",
    "    torch.manual_seed(s)\n",
    "    torch.cuda.manual_seed_all(s)\n",
    "set_seed()"
   ]
  },
  {
   "cell_type": "code",
   "execution_count": 33,
   "id": "4904b7b4",
   "metadata": {},
   "outputs": [
    {
     "name": "stdout",
     "output_type": "stream",
     "text": [
      "Using device: cuda\n"
     ]
    }
   ],
   "source": [
    "DEVICE = torch.device(\"cuda\" if torch.cuda.is_available() else \"cpu\")\n",
    "print(f\"Using device: {DEVICE}\")"
   ]
  },
  {
   "cell_type": "markdown",
   "id": "29e9ddf0",
   "metadata": {},
   "source": [
    "## **Config**"
   ]
  },
  {
   "cell_type": "code",
   "execution_count": 34,
   "id": "81d39b91",
   "metadata": {},
   "outputs": [],
   "source": [
    "MAX_SEQ_LEN        = 64\n",
    "BATCH_SIZE         = 32\n",
    "NUM_SAMPLES_TRAIN  = 5000\n",
    "NUM_SAMPLES_TEST   = 200\n",
    "VAL_SPLIT_RATIO    = 0.1\n",
    "LEARNING_RATE      = 1e-4"
   ]
  },
  {
   "cell_type": "markdown",
   "id": "fc6d8329",
   "metadata": {},
   "source": [
    "## **Data Loading & EDA**"
   ]
  },
  {
   "cell_type": "code",
   "execution_count": 35,
   "id": "44a3be99",
   "metadata": {},
   "outputs": [],
   "source": [
    "# load dataset\n",
    "ds = load_dataset(\"li2017dailydialog/daily_dialog\")\n",
    "train_raw = ds[\"train\"][\"dialog\"][:NUM_SAMPLES_TRAIN]\n",
    "test_raw  = ds[\"test\"][\"dialog\"][:NUM_SAMPLES_TEST]"
   ]
  },
  {
   "cell_type": "code",
   "execution_count": 36,
   "id": "5ad67733",
   "metadata": {},
   "outputs": [
    {
     "name": "stdout",
     "output_type": "stream",
     "text": [
      ">>> 5 contoh train:\n",
      "  ['Say , Jim , how about going for a few beers after dinner ? ', ' You know that is tempting but is really not good for our fitness . ', ' What do you mean ? It will help us to relax . ', \" Do you really think so ? I don't . It will just make us fat and act silly . Remember last time ? \", \" I guess you are right.But what shall we do ? I don't feel like sitting at home . \", ' I suggest a walk over to the gym where we can play singsong and meet some of our friends . ', \" That's a good idea . I hear Mary and Sally often go there to play pingpong.Perhaps we can make a foursome with them . \", ' Sounds great to me ! If they are willing , we could ask them to go dancing with us.That is excellent exercise and fun , too . ', \" Good.Let ' s go now . \", ' All right . ']\n",
      "  ['Can you do push-ups ? ', \" Of course I can . It's a piece of cake ! Believe it or not , I can do 30 push-ups a minute . \", \" Really ? I think that's impossible ! \", ' You mean 30 push-ups ? ', ' Yeah ! ', \" It's easy . If you do exercise everyday , you can make it , too . \"]\n",
      "  ['Can you study with the radio on ? ', ' No , I listen to background music . ', ' What is the difference ? ', ' The radio has too many comerials . ', \" That's true , but then you have to buy a record player . \"]\n",
      "  ['Are you all right ? ', ' I will be all right soon . I was terrified when I watched them fall from the wire . ', \" Don't worry.He is an acrobat 。 \", ' I see . ']\n",
      "  ['Hey John , nice skates . Are they new ? ', ' Yeah , I just got them . I started playing ice hockey in a community league . So , I finally got myself new skates . ', ' What position do you play ? ', ' I ’ m a defender . It ’ s a lot of fun . You don ’ t have to be able to skate as fast on defense . ', ' Yeah , you ’ re a pretty big guy . I play goalie , myself . ', ' Oh , yeah ? Which team ? ', ' The Rockets . ', ' Really ? I think we play you guys next week . Well , I have to go to practice . See you later . ', ' All right , see you later . ']\n",
      "\n",
      ">>> 5 contoh test:\n",
      "  ['Hey man , you wanna buy some weed ? ', ' Some what ? ', ' Weed ! You know ? Pot , Ganja , Mary Jane some chronic ! ', ' Oh , umm , no thanks . ', ' I also have blow if you prefer to do a few lines . ', ' No , I am ok , really . ', ' Come on man ! I even got dope and acid ! Try some ! ', ' Do you really have all of these drugs ? Where do you get them from ? ', ' I got my connections ! Just tell me what you want and I ’ ll even give you one ounce for free . ', ' Sounds good ! Let ’ s see , I want . ', ' Yeah ? ', ' I want you to put your hands behind your head ! You are under arrest ! ']\n",
      "  ['The taxi drivers are on strike again . ', ' What for ? ', ' They want the government to reduce the price of the gasoline . ', ' It is really a hot potato . ']\n",
      "  [\"We've managed to reduce our energy consumption in our factory by about 15 per cent in the last two years . \", \" That's excellent . How have you managed that ? \", \" Mainly because we've invested in a heat recovery system . \", ' What does that mean exactly ? ', ' Well , we use the exhaust gases from our printing presses to provide energy to heat our dryers . ', ' What other sources of energy do you use ? ', \" We don't use any fossil fuels . Most of our power comes from hydro-electric plants . We're hoping to use even more energy from alternative sources in the future - perhaps even wind power . \"]\n",
      "  ['Believe it or not , tea is the most popular beverage in the world after water . ', ' Well , people from Asia to Europe all enjoy tea . ', ' Right . And China is the homeland of tea . ', \" Yes , Chinese people love drinking tea so much . Some even claim they can't live without tea . \", ' Do you know there are several catagories of Chinese tea ? ', ' Yes , I believe there are green teas , black teas and scented teas . Any Others ? ', ' Well , have you ever heard of Oulong tea and compressed tea ? ', \" Oh , yeah . Oulong tea is good for one's health . isn't it ? \", ' You surely know a lot about Chinese tea . ', ' Sure , I like drinking tea at teahouses . ', ' Oh , so do I . ', \" Why don't we go for one now ? \", ' Great . We can chat while enjoying a cup there . ', \" Let's go ! \"]\n",
      "  ['What are your personal weaknesses ? ', ' I ’ m afraid I ’ m a poor talker . I ’ m not comfortable talking with the people whom I have just met for the first time . That is not very good for business , so I have been studying public speaking . ', ' Are you more of a leader or a follower ? ', ' I don ’ t try to lead people . I ’ d rather cooperate with everybody , and get the job done by working together . ', ' Do you think you can make yourself easily understood in English ? ', ' Yes , in most circumstances . ', ' Are you available for travel ? ', ' Yes , I like travelling . I am young , and unmarried . It ’ s no problem for me to travel frequently . ']\n"
     ]
    }
   ],
   "source": [
    "# tampilkan 5 contoh\n",
    "print(\">>> 5 contoh train:\")\n",
    "for conv in train_raw[:5]:\n",
    "    print(\" \", conv)\n",
    "print(\"\\n>>> 5 contoh test:\")\n",
    "for conv in test_raw[:5]:\n",
    "    print(\" \", conv)"
   ]
  },
  {
   "cell_type": "code",
   "execution_count": 37,
   "id": "977173af",
   "metadata": {},
   "outputs": [
    {
     "data": {
      "image/png": "[encoded data removed]",
      "text/plain": [
       "<Figure size 800x400 with 1 Axes>"
      ]
     },
     "metadata": {},
     "output_type": "display_data"
    }
   ],
   "source": [
    "lengths = [len(c) for c in train_raw]\n",
    "dist    = Counter(lengths)\n",
    "turns, freqs = zip(*sorted(dist.items()))\n",
    "\n",
    "# Plot\n",
    "plt.figure(figsize=(8,4))\n",
    "plt.bar(turns, freqs, edgecolor='k')\n",
    "plt.xlabel(\"Jumlah Turn dalam 1 Dialog\")\n",
    "plt.ylabel(\"Frekuensi Contoh\")\n",
    "plt.title(\"Distribusi Jumlah Turn per Dialog (Train)\")\n",
    "plt.xticks(turns)\n",
    "plt.grid(axis='y', linestyle='--', alpha=0.5)\n",
    "plt.tight_layout()\n",
    "plt.show()"
   ]
  },
  {
   "cell_type": "markdown",
   "id": "adcb92c6",
   "metadata": {},
   "source": [
    "## **Data Preprocessing (Vocab & Dataset)**"
   ]
  },
  {
   "cell_type": "code",
   "execution_count": 38,
   "id": "6671868d",
   "metadata": {},
   "outputs": [],
   "source": [
    "# bangun vocab\n",
    "token_freq = {}\n",
    "for conv in train_raw:\n",
    "    for tok in \" [SEP] \".join(conv).split():\n",
    "        token_freq[tok] = token_freq.get(tok,0) + 1\n",
    "\n",
    "vocab = [\"<pad>\",\"<bos>\",\"<eos>\",\"[SEP]\"] + sorted(token_freq, key=token_freq.get, reverse=True)\n",
    "token2id = {t:i for i,t in enumerate(vocab)}\n",
    "vocab_size = len(vocab)"
   ]
  },
  {
   "cell_type": "code",
   "execution_count": 39,
   "id": "fab44760",
   "metadata": {},
   "outputs": [],
   "source": [
    "# dataset class\n",
    "class DialogDataset(Dataset):\n",
    "    def __init__(self, dialogs, tok2id, max_len):\n",
    "        self.data = []\n",
    "        for conv in dialogs:\n",
    "            seq = [\"<bos>\"] + conv + [\"<eos>\"]\n",
    "            ids = [tok2id.get(t,tok2id[\"<pad>\"]) for t in seq]\n",
    "            ids = ids[:max_len]\n",
    "            ids += [tok2id[\"<pad>\"]] * (max_len - len(ids))\n",
    "            self.data.append(torch.tensor(ids))\n",
    "    def __len__(self): return len(self.data)\n",
    "    def __getitem__(self, i):\n",
    "        x = self.data[i][:-1]\n",
    "        y = self.data[i][1:]\n",
    "        return x, y"
   ]
  },
  {
   "cell_type": "code",
   "execution_count": 40,
   "id": "af8d189b",
   "metadata": {},
   "outputs": [],
   "source": [
    "# split train/val\n",
    "full_ds = DialogDataset(train_raw, token2id, MAX_SEQ_LEN)\n",
    "val_size = int(len(full_ds) * VAL_SPLIT_RATIO)\n",
    "train_size = len(full_ds) - val_size\n",
    "train_ds, val_ds = random_split(full_ds, [train_size, val_size])\n",
    "\n",
    "train_loader = DataLoader(train_ds, batch_size=BATCH_SIZE, shuffle=True, drop_last=True)\n",
    "val_loader   = DataLoader(val_ds,   batch_size=BATCH_SIZE, shuffle=False, drop_last=False)"
   ]
  },
  {
   "cell_type": "markdown",
   "id": "6edfbd8b",
   "metadata": {},
   "source": [
    "## **Arsitektur Transformer**"
   ]
  },
  {
   "cell_type": "code",
   "execution_count": 41,
   "id": "b2c90a65",
   "metadata": {},
   "outputs": [],
   "source": [
    "class PositionalEncoding(nn.Module):\n",
    "    def __init__(self, d_model, max_len):\n",
    "        super().__init__()\n",
    "        pe = torch.zeros(max_len, d_model)\n",
    "        pos = torch.arange(max_len).unsqueeze(1).float()\n",
    "        div = torch.exp(torch.arange(0,d_model,2).float() * (-math.log(10000)/d_model))\n",
    "        pe[:,0::2] = torch.sin(pos*div)\n",
    "        pe[:,1::2] = torch.cos(pos*div)\n",
    "        self.pe = pe.unsqueeze(0)\n",
    "    def forward(self, x):\n",
    "        return x + self.pe[:, :x.size(1)].to(x.device)\n",
    "\n",
    "class MultiHeadSelfAttention(nn.Module):\n",
    "    def __init__(self, d_model, num_heads, dropout=0.1):\n",
    "        super().__init__()\n",
    "        assert d_model%num_heads==0\n",
    "        self.d_head    = d_model//num_heads\n",
    "        self.num_heads = num_heads\n",
    "        self.qkv       = nn.Linear(d_model, 3*d_model)\n",
    "        self.proj      = nn.Linear(d_model, d_model)\n",
    "        self.attn_drop = nn.Dropout(dropout)\n",
    "        self.proj_drop = nn.Dropout(dropout)\n",
    "    def forward(self, x):\n",
    "        B,T,D = x.shape\n",
    "        q,k,v = self.qkv(x).chunk(3,-1)\n",
    "        q = q.view(B,T,self.num_heads,self.d_head).transpose(1,2)\n",
    "        k = k.view(B,T,self.num_heads,self.d_head).transpose(1,2)\n",
    "        v = v.view(B,T,self.num_heads,self.d_head).transpose(1,2)\n",
    "        scores = (q @ k.transpose(-2,-1)) / math.sqrt(self.d_head)\n",
    "        mask   = torch.tril(torch.ones(T,T,device=x.device)).unsqueeze(0).unsqueeze(0)\n",
    "        scores = scores.masked_fill(mask==0, float('-inf'))\n",
    "        attn   = torch.softmax(scores, dim=-1)\n",
    "        attn   = self.attn_drop(attn)\n",
    "        out    = (attn @ v).transpose(1,2).contiguous().view(B,T,D)\n",
    "        return self.proj_drop(self.proj(out))\n",
    "\n",
    "class FeedForward(nn.Module):\n",
    "    def __init__(self, d_model, d_ff, dropout=0.1):\n",
    "        super().__init__()\n",
    "        self.net = nn.Sequential(\n",
    "            nn.Linear(d_model,d_ff),\n",
    "            nn.GELU(),\n",
    "            nn.Linear(d_ff,d_model),\n",
    "            nn.Dropout(dropout)\n",
    "        )\n",
    "    def forward(self,x): return self.net(x)\n",
    "\n",
    "class DecoderBlock(nn.Module):\n",
    "    def __init__(self, d_model, heads, d_ff, dropout=0.1):\n",
    "        super().__init__()\n",
    "        self.ln1  = nn.LayerNorm(d_model)\n",
    "        self.attn = MultiHeadSelfAttention(d_model,heads,dropout)\n",
    "        self.ln2  = nn.LayerNorm(d_model)\n",
    "        self.ff   = FeedForward(d_model,d_ff,dropout)\n",
    "    def forward(self, x):\n",
    "        x = x + self.attn(self.ln1(x))\n",
    "        x = x + self.ff(self.ln2(x))\n",
    "        return x\n",
    "class MultiHeadSelfAttentionRelPos(MultiHeadSelfAttention):\n",
    "    def __init__(self, d_model, num_heads, max_len, dropout=0.1):\n",
    "        super().__init__(d_model, num_heads, dropout)\n",
    "        self.max_len  = max_len\n",
    "        # bias untuk posisi relatif dari -(max_len-1) sampai +(max_len-1)\n",
    "        self.rel_bias = nn.Parameter(torch.zeros(num_heads, 2*max_len-1))\n",
    "        coords = torch.arange(max_len)\n",
    "        rel_idx = coords[None, :] - coords[:, None] + (max_len - 1)  # shape (max_len, max_len)\n",
    "        self.register_buffer('rel_idx', rel_idx)\n",
    "\n",
    "    def forward(self, x):\n",
    "        B, T, D = x.shape\n",
    "        # Dapatkan Q,K,V seperti biasa\n",
    "        q, k, v = self.qkv(x).chunk(3, dim=-1)\n",
    "        q = q.view(B, T, self.num_heads, self.d_head).transpose(1, 2)\n",
    "        k = k.view(B, T, self.num_heads, self.d_head).transpose(1, 2)\n",
    "        v = v.view(B, T, self.num_heads, self.d_head).transpose(1, 2)\n",
    "\n",
    "        # hitung attention scores\n",
    "        scores = (q @ k.transpose(-2, -1)) / math.sqrt(self.d_head)  # (B, H, T, T)\n",
    "\n",
    "        # ambil hanya bias [0:T,0:T]\n",
    "        rel_bias_T = self.rel_bias[:, self.rel_idx[:T, :T]]         # (H, T, T)\n",
    "        scores = scores + rel_bias_T.unsqueeze(0)                   # (B, H, T, T)\n",
    "\n",
    "        # mask causal\n",
    "        mask = torch.tril(torch.ones(T, T, device=x.device))\n",
    "        mask = mask.unsqueeze(0).unsqueeze(0)                       # (1,1,T,T)\n",
    "        scores = scores.masked_fill(mask == 0, float('-inf'))\n",
    "\n",
    "        attn = torch.softmax(scores, dim=-1)\n",
    "        attn = self.attn_dropout(attn)\n",
    "        out  = (attn @ v).transpose(1, 2).contiguous().view(B, T, D)\n",
    "        return self.proj_dropout(self.proj(out))\n",
    "\n",
    "class DecoderOnlyTransformer(nn.Module):\n",
    "    def __init__(self, cfg):\n",
    "        super().__init__()\n",
    "        self.embed   = nn.Embedding(cfg['vocab_size'],cfg['d_model'])\n",
    "        self.pos_enc = PositionalEncoding(cfg['d_model'],cfg['max_len'])\n",
    "        self.drop    = nn.Dropout(cfg['dropout'])\n",
    "        self.layers  = nn.ModuleList()\n",
    "        for _ in range(cfg['num_layers']):\n",
    "            block = DecoderBlock(cfg['d_model'],cfg['num_heads'],cfg['d_ff'],cfg['dropout'])\n",
    "            if cfg.get('relpos',False):\n",
    "                block.attn = MultiHeadSelfAttentionRelPos(\n",
    "                    cfg['d_model'],cfg['num_heads'],cfg['max_len'],cfg['dropout'])\n",
    "            self.layers.append(block)\n",
    "        self.ln_f = nn.LayerNorm(cfg['d_model'])\n",
    "        self.head = nn.Linear(cfg['d_model'],cfg['vocab_size'],bias=False)\n",
    "    def forward(self,x):\n",
    "        x = self.embed(x)*math.sqrt(x.size(-1))\n",
    "        x = self.pos_enc(x)\n",
    "        x = self.drop(x)\n",
    "        for blk in self.layers: x = blk(x)\n",
    "        x = self.ln_f(x)\n",
    "        return self.head(x)"
   ]
  },
  {
   "cell_type": "code",
   "execution_count": 45,
   "id": "ec9bc8db",
   "metadata": {},
   "outputs": [
    {
     "name": "stderr",
     "output_type": "stream",
     "text": [
      "Using the latest cached version of the module from /home/xmriz/.cache/huggingface/modules/evaluate_modules/metrics/evaluate-metric--rouge/b01e0accf3bd6dd24839b769a5fda24e14995071570870922c71970b3a6ed886 (last modified on Thu May  1 00:01:29 2025) since it couldn't be found locally at evaluate-metric--rouge, or remotely on the Hugging Face Hub.\n"
     ]
    },
    {
     "ename": "ModuleNotFoundError",
     "evalue": "No module named 'absl'",
     "output_type": "error",
     "traceback": [
      "\u001b[0;31m---------------------------------------------------------------------------\u001b[0m",
      "\u001b[0;31mModuleNotFoundError\u001b[0m                       Traceback (most recent call last)",
      "Cell \u001b[0;32mIn[45], line 2\u001b[0m\n\u001b[1;32m      1\u001b[0m \u001b[38;5;66;03m# Cell 13. Setup evaluasi\u001b[39;00m\n\u001b[0;32m----> 2\u001b[0m rouge  \u001b[38;5;241m=\u001b[39m \u001b[43mevaluate\u001b[49m\u001b[38;5;241;43m.\u001b[39;49m\u001b[43mload\u001b[49m\u001b[43m(\u001b[49m\u001b[38;5;124;43m\"\u001b[39;49m\u001b[38;5;124;43mrouge\u001b[39;49m\u001b[38;5;124;43m\"\u001b[39;49m\u001b[43m)\u001b[49m\n\u001b[1;32m      3\u001b[0m bleu   \u001b[38;5;241m=\u001b[39m evaluate\u001b[38;5;241m.\u001b[39mload(\u001b[38;5;124m\"\u001b[39m\u001b[38;5;124mbleu\u001b[39m\u001b[38;5;124m\"\u001b[39m)\n\u001b[1;32m      4\u001b[0m meteor \u001b[38;5;241m=\u001b[39m evaluate\u001b[38;5;241m.\u001b[39mload(\u001b[38;5;124m\"\u001b[39m\u001b[38;5;124mmeteor\u001b[39m\u001b[38;5;124m\"\u001b[39m)\n",
      "File \u001b[0;32m~/miniconda3/envs/tubes-dl/lib/python3.10/site-packages/evaluate/loading.py:751\u001b[0m, in \u001b[0;36mload\u001b[0;34m(path, config_name, module_type, process_id, num_process, cache_dir, experiment_id, keep_in_memory, download_config, download_mode, revision, **init_kwargs)\u001b[0m\n\u001b[1;32m    747\u001b[0m download_mode \u001b[38;5;241m=\u001b[39m DownloadMode(download_mode \u001b[38;5;129;01mor\u001b[39;00m DownloadMode\u001b[38;5;241m.\u001b[39mREUSE_DATASET_IF_EXISTS)\n\u001b[1;32m    748\u001b[0m evaluation_module \u001b[38;5;241m=\u001b[39m evaluation_module_factory(\n\u001b[1;32m    749\u001b[0m     path, module_type\u001b[38;5;241m=\u001b[39mmodule_type, revision\u001b[38;5;241m=\u001b[39mrevision, download_config\u001b[38;5;241m=\u001b[39mdownload_config, download_mode\u001b[38;5;241m=\u001b[39mdownload_mode\n\u001b[1;32m    750\u001b[0m )\n\u001b[0;32m--> 751\u001b[0m evaluation_cls \u001b[38;5;241m=\u001b[39m \u001b[43mimport_main_class\u001b[49m\u001b[43m(\u001b[49m\u001b[43mevaluation_module\u001b[49m\u001b[38;5;241;43m.\u001b[39;49m\u001b[43mmodule_path\u001b[49m\u001b[43m)\u001b[49m\n\u001b[1;32m    752\u001b[0m evaluation_instance \u001b[38;5;241m=\u001b[39m evaluation_cls(\n\u001b[1;32m    753\u001b[0m     config_name\u001b[38;5;241m=\u001b[39mconfig_name,\n\u001b[1;32m    754\u001b[0m     process_id\u001b[38;5;241m=\u001b[39mprocess_id,\n\u001b[0;32m   (...)\u001b[0m\n\u001b[1;32m    760\u001b[0m     \u001b[38;5;241m*\u001b[39m\u001b[38;5;241m*\u001b[39minit_kwargs,\n\u001b[1;32m    761\u001b[0m )\n\u001b[1;32m    763\u001b[0m \u001b[38;5;28;01mif\u001b[39;00m module_type \u001b[38;5;129;01mand\u001b[39;00m module_type \u001b[38;5;241m!=\u001b[39m evaluation_instance\u001b[38;5;241m.\u001b[39mmodule_type:\n",
      "File \u001b[0;32m~/miniconda3/envs/tubes-dl/lib/python3.10/site-packages/evaluate/loading.py:76\u001b[0m, in \u001b[0;36mimport_main_class\u001b[0;34m(module_path)\u001b[0m\n\u001b[1;32m     74\u001b[0m \u001b[38;5;28;01mdef\u001b[39;00m\u001b[38;5;250m \u001b[39m\u001b[38;5;21mimport_main_class\u001b[39m(module_path) \u001b[38;5;241m-\u001b[39m\u001b[38;5;241m>\u001b[39m Optional[Union[Type[DatasetBuilder], Type[EvaluationModule]]]:\n\u001b[1;32m     75\u001b[0m \u001b[38;5;250m    \u001b[39m\u001b[38;5;124;03m\"\"\"Import a module at module_path and return its main class, a Metric by default\"\"\"\u001b[39;00m\n\u001b[0;32m---> 76\u001b[0m     module \u001b[38;5;241m=\u001b[39m \u001b[43mimportlib\u001b[49m\u001b[38;5;241;43m.\u001b[39;49m\u001b[43mimport_module\u001b[49m\u001b[43m(\u001b[49m\u001b[43mmodule_path\u001b[49m\u001b[43m)\u001b[49m\n\u001b[1;32m     77\u001b[0m     main_cls_type \u001b[38;5;241m=\u001b[39m EvaluationModule\n\u001b[1;32m     79\u001b[0m     \u001b[38;5;66;03m# Find the main class in our imported module\u001b[39;00m\n",
      "File \u001b[0;32m~/miniconda3/envs/tubes-dl/lib/python3.10/importlib/__init__.py:126\u001b[0m, in \u001b[0;36mimport_module\u001b[0;34m(name, package)\u001b[0m\n\u001b[1;32m    124\u001b[0m             \u001b[38;5;28;01mbreak\u001b[39;00m\n\u001b[1;32m    125\u001b[0m         level \u001b[38;5;241m+\u001b[39m\u001b[38;5;241m=\u001b[39m \u001b[38;5;241m1\u001b[39m\n\u001b[0;32m--> 126\u001b[0m \u001b[38;5;28;01mreturn\u001b[39;00m \u001b[43m_bootstrap\u001b[49m\u001b[38;5;241;43m.\u001b[39;49m\u001b[43m_gcd_import\u001b[49m\u001b[43m(\u001b[49m\u001b[43mname\u001b[49m\u001b[43m[\u001b[49m\u001b[43mlevel\u001b[49m\u001b[43m:\u001b[49m\u001b[43m]\u001b[49m\u001b[43m,\u001b[49m\u001b[43m \u001b[49m\u001b[43mpackage\u001b[49m\u001b[43m,\u001b[49m\u001b[43m \u001b[49m\u001b[43mlevel\u001b[49m\u001b[43m)\u001b[49m\n",
      "File \u001b[0;32m<frozen importlib._bootstrap>:1050\u001b[0m, in \u001b[0;36m_gcd_import\u001b[0;34m(name, package, level)\u001b[0m\n",
      "File \u001b[0;32m<frozen importlib._bootstrap>:1027\u001b[0m, in \u001b[0;36m_find_and_load\u001b[0;34m(name, import_)\u001b[0m\n",
      "File \u001b[0;32m<frozen importlib._bootstrap>:1006\u001b[0m, in \u001b[0;36m_find_and_load_unlocked\u001b[0;34m(name, import_)\u001b[0m\n",
      "File \u001b[0;32m<frozen importlib._bootstrap>:688\u001b[0m, in \u001b[0;36m_load_unlocked\u001b[0;34m(spec)\u001b[0m\n",
      "File \u001b[0;32m<frozen importlib._bootstrap_external>:883\u001b[0m, in \u001b[0;36mexec_module\u001b[0;34m(self, module)\u001b[0m\n",
      "File \u001b[0;32m<frozen importlib._bootstrap>:241\u001b[0m, in \u001b[0;36m_call_with_frames_removed\u001b[0;34m(f, *args, **kwds)\u001b[0m\n",
      "File \u001b[0;32m~/.cache/huggingface/modules/evaluate_modules/metrics/evaluate-metric--rouge/b01e0accf3bd6dd24839b769a5fda24e14995071570870922c71970b3a6ed886/rouge.py:17\u001b[0m\n\u001b[1;32m     14\u001b[0m \u001b[38;5;124;03m\"\"\" ROUGE metric from Google Research github repo. \"\"\"\u001b[39;00m\n\u001b[1;32m     16\u001b[0m \u001b[38;5;66;03m# The dependencies in https://github.com/google-research/google-research/blob/master/rouge/requirements.txt\u001b[39;00m\n\u001b[0;32m---> 17\u001b[0m \u001b[38;5;28;01mimport\u001b[39;00m\u001b[38;5;250m \u001b[39m\u001b[38;5;21;01mabsl\u001b[39;00m  \u001b[38;5;66;03m# Here to have a nice missing dependency error message early on\u001b[39;00m\n\u001b[1;32m     18\u001b[0m \u001b[38;5;28;01mimport\u001b[39;00m\u001b[38;5;250m \u001b[39m\u001b[38;5;21;01mdatasets\u001b[39;00m\n\u001b[1;32m     19\u001b[0m \u001b[38;5;28;01mimport\u001b[39;00m\u001b[38;5;250m \u001b[39m\u001b[38;5;21;01mnltk\u001b[39;00m  \u001b[38;5;66;03m# Here to have a nice missing dependency error message early on\u001b[39;00m\n",
      "\u001b[0;31mModuleNotFoundError\u001b[0m: No module named 'absl'"
     ]
    }
   ],
   "source": [
    "# Cell 13. Setup evaluasi\n",
    "rouge  = evaluate.load(\"rouge\")\n",
    "bleu   = evaluate.load(\"bleu\")\n",
    "meteor = evaluate.load(\"meteor\")\n",
    "\n",
    "\n",
    "# Cell 14. Greedy decode function\n",
    "def greedy_generate(model, ids, max_new=32):\n",
    "    model.eval()\n",
    "    out = ids.to(DEVICE)\n",
    "    with torch.no_grad():\n",
    "        for _ in range(max_new):\n",
    "            logits = model(out)\n",
    "            nt = logits[:, -1].argmax(dim=-1, keepdim=True)\n",
    "            out = torch.cat([out, nt], dim=-1)\n",
    "            if nt.item() == token2id[\"<eos>\"]:\n",
    "                break\n",
    "    return out"
   ]
  },
  {
   "cell_type": "markdown",
   "id": "7d450471",
   "metadata": {},
   "source": [
    "## **Pelatihan & Validasi**"
   ]
  },
  {
   "cell_type": "code",
   "execution_count": 42,
   "id": "b0b35606",
   "metadata": {},
   "outputs": [],
   "source": [
    "experiments = [\n",
    "    {'name':'vanilla_small','num_layers':2,'d_model': 64,'num_heads':2,'d_ff':256,'relpos':False},\n",
    "    {'name':'vanilla_big',  'num_layers':2,'d_model':128,'num_heads':4,'d_ff':512,'relpos':False},\n",
    "    {'name':'relpos_small', 'num_layers':2,'d_model': 64,'num_heads':2,'d_ff':256,'relpos':True},\n",
    "    {'name':'relpos_big',   'num_layers':2,'d_model':128,'num_heads':4,'d_ff':512,'relpos':True},\n",
    "]"
   ]
  },
  {
   "cell_type": "code",
   "execution_count": 43,
   "id": "7a3a1c0c",
   "metadata": {},
   "outputs": [
    {
     "name": "stdout",
     "output_type": "stream",
     "text": [
      "\n",
      ">>> Training vanilla_small\n",
      " Epoch 1: train=8.1785, val=5.4192\n",
      " Epoch 2: train=3.8731, val=2.2482\n",
      " Epoch 3: train=1.6474, val=0.7681\n",
      " Epoch 4: train=0.5842, val=0.2710\n",
      " Epoch 5: train=0.2468, val=0.1318\n",
      "\n",
      ">>> Training vanilla_big\n",
      " Epoch 1: train=4.5447, val=0.8939\n",
      " Epoch 2: train=0.4945, val=0.1414\n",
      " Epoch 3: train=0.1250, val=0.0562\n",
      " Epoch 4: train=0.0596, val=0.0312\n",
      " Epoch 5: train=0.0358, val=0.0201\n",
      "\n",
      ">>> Training relpos_small\n"
     ]
    },
    {
     "ename": "AttributeError",
     "evalue": "'MultiHeadSelfAttentionRelPos' object has no attribute 'attn_dropout'",
     "output_type": "error",
     "traceback": [
      "\u001b[0;31m---------------------------------------------------------------------------\u001b[0m",
      "\u001b[0;31mAttributeError\u001b[0m                            Traceback (most recent call last)",
      "Cell \u001b[0;32mIn[43], line 15\u001b[0m\n\u001b[1;32m     13\u001b[0m \u001b[38;5;28;01mfor\u001b[39;00m x,y \u001b[38;5;129;01min\u001b[39;00m train_loader:\n\u001b[1;32m     14\u001b[0m     x,y \u001b[38;5;241m=\u001b[39m x\u001b[38;5;241m.\u001b[39mto(DEVICE), y\u001b[38;5;241m.\u001b[39mto(DEVICE)\n\u001b[0;32m---> 15\u001b[0m     logits \u001b[38;5;241m=\u001b[39m \u001b[43mmodel\u001b[49m\u001b[43m(\u001b[49m\u001b[43mx\u001b[49m\u001b[43m)\u001b[49m\n\u001b[1;32m     16\u001b[0m     loss   \u001b[38;5;241m=\u001b[39m crit(logits\u001b[38;5;241m.\u001b[39mview(\u001b[38;5;241m-\u001b[39m\u001b[38;5;241m1\u001b[39m,vocab_size), y\u001b[38;5;241m.\u001b[39mview(\u001b[38;5;241m-\u001b[39m\u001b[38;5;241m1\u001b[39m))\n\u001b[1;32m     17\u001b[0m     opt\u001b[38;5;241m.\u001b[39mzero_grad(); loss\u001b[38;5;241m.\u001b[39mbackward(); opt\u001b[38;5;241m.\u001b[39mstep()\n",
      "File \u001b[0;32m~/miniconda3/envs/tubes-dl/lib/python3.10/site-packages/torch/nn/modules/module.py:1751\u001b[0m, in \u001b[0;36mModule._wrapped_call_impl\u001b[0;34m(self, *args, **kwargs)\u001b[0m\n\u001b[1;32m   1749\u001b[0m     \u001b[38;5;28;01mreturn\u001b[39;00m \u001b[38;5;28mself\u001b[39m\u001b[38;5;241m.\u001b[39m_compiled_call_impl(\u001b[38;5;241m*\u001b[39margs, \u001b[38;5;241m*\u001b[39m\u001b[38;5;241m*\u001b[39mkwargs)  \u001b[38;5;66;03m# type: ignore[misc]\u001b[39;00m\n\u001b[1;32m   1750\u001b[0m \u001b[38;5;28;01melse\u001b[39;00m:\n\u001b[0;32m-> 1751\u001b[0m     \u001b[38;5;28;01mreturn\u001b[39;00m \u001b[38;5;28;43mself\u001b[39;49m\u001b[38;5;241;43m.\u001b[39;49m\u001b[43m_call_impl\u001b[49m\u001b[43m(\u001b[49m\u001b[38;5;241;43m*\u001b[39;49m\u001b[43margs\u001b[49m\u001b[43m,\u001b[49m\u001b[43m \u001b[49m\u001b[38;5;241;43m*\u001b[39;49m\u001b[38;5;241;43m*\u001b[39;49m\u001b[43mkwargs\u001b[49m\u001b[43m)\u001b[49m\n",
      "File \u001b[0;32m~/miniconda3/envs/tubes-dl/lib/python3.10/site-packages/torch/nn/modules/module.py:1762\u001b[0m, in \u001b[0;36mModule._call_impl\u001b[0;34m(self, *args, **kwargs)\u001b[0m\n\u001b[1;32m   1757\u001b[0m \u001b[38;5;66;03m# If we don't have any hooks, we want to skip the rest of the logic in\u001b[39;00m\n\u001b[1;32m   1758\u001b[0m \u001b[38;5;66;03m# this function, and just call forward.\u001b[39;00m\n\u001b[1;32m   1759\u001b[0m \u001b[38;5;28;01mif\u001b[39;00m \u001b[38;5;129;01mnot\u001b[39;00m (\u001b[38;5;28mself\u001b[39m\u001b[38;5;241m.\u001b[39m_backward_hooks \u001b[38;5;129;01mor\u001b[39;00m \u001b[38;5;28mself\u001b[39m\u001b[38;5;241m.\u001b[39m_backward_pre_hooks \u001b[38;5;129;01mor\u001b[39;00m \u001b[38;5;28mself\u001b[39m\u001b[38;5;241m.\u001b[39m_forward_hooks \u001b[38;5;129;01mor\u001b[39;00m \u001b[38;5;28mself\u001b[39m\u001b[38;5;241m.\u001b[39m_forward_pre_hooks\n\u001b[1;32m   1760\u001b[0m         \u001b[38;5;129;01mor\u001b[39;00m _global_backward_pre_hooks \u001b[38;5;129;01mor\u001b[39;00m _global_backward_hooks\n\u001b[1;32m   1761\u001b[0m         \u001b[38;5;129;01mor\u001b[39;00m _global_forward_hooks \u001b[38;5;129;01mor\u001b[39;00m _global_forward_pre_hooks):\n\u001b[0;32m-> 1762\u001b[0m     \u001b[38;5;28;01mreturn\u001b[39;00m \u001b[43mforward_call\u001b[49m\u001b[43m(\u001b[49m\u001b[38;5;241;43m*\u001b[39;49m\u001b[43margs\u001b[49m\u001b[43m,\u001b[49m\u001b[43m \u001b[49m\u001b[38;5;241;43m*\u001b[39;49m\u001b[38;5;241;43m*\u001b[39;49m\u001b[43mkwargs\u001b[49m\u001b[43m)\u001b[49m\n\u001b[1;32m   1764\u001b[0m result \u001b[38;5;241m=\u001b[39m \u001b[38;5;28;01mNone\u001b[39;00m\n\u001b[1;32m   1765\u001b[0m called_always_called_hooks \u001b[38;5;241m=\u001b[39m \u001b[38;5;28mset\u001b[39m()\n",
      "Cell \u001b[0;32mIn[41], line 113\u001b[0m, in \u001b[0;36mDecoderOnlyTransformer.forward\u001b[0;34m(self, x)\u001b[0m\n\u001b[1;32m    111\u001b[0m x \u001b[38;5;241m=\u001b[39m \u001b[38;5;28mself\u001b[39m\u001b[38;5;241m.\u001b[39mpos_enc(x)\n\u001b[1;32m    112\u001b[0m x \u001b[38;5;241m=\u001b[39m \u001b[38;5;28mself\u001b[39m\u001b[38;5;241m.\u001b[39mdrop(x)\n\u001b[0;32m--> 113\u001b[0m \u001b[38;5;28;01mfor\u001b[39;00m blk \u001b[38;5;129;01min\u001b[39;00m \u001b[38;5;28mself\u001b[39m\u001b[38;5;241m.\u001b[39mlayers: x \u001b[38;5;241m=\u001b[39m \u001b[43mblk\u001b[49m\u001b[43m(\u001b[49m\u001b[43mx\u001b[49m\u001b[43m)\u001b[49m\n\u001b[1;32m    114\u001b[0m x \u001b[38;5;241m=\u001b[39m \u001b[38;5;28mself\u001b[39m\u001b[38;5;241m.\u001b[39mln_f(x)\n\u001b[1;32m    115\u001b[0m \u001b[38;5;28;01mreturn\u001b[39;00m \u001b[38;5;28mself\u001b[39m\u001b[38;5;241m.\u001b[39mhead(x)\n",
      "File \u001b[0;32m~/miniconda3/envs/tubes-dl/lib/python3.10/site-packages/torch/nn/modules/module.py:1751\u001b[0m, in \u001b[0;36mModule._wrapped_call_impl\u001b[0;34m(self, *args, **kwargs)\u001b[0m\n\u001b[1;32m   1749\u001b[0m     \u001b[38;5;28;01mreturn\u001b[39;00m \u001b[38;5;28mself\u001b[39m\u001b[38;5;241m.\u001b[39m_compiled_call_impl(\u001b[38;5;241m*\u001b[39margs, \u001b[38;5;241m*\u001b[39m\u001b[38;5;241m*\u001b[39mkwargs)  \u001b[38;5;66;03m# type: ignore[misc]\u001b[39;00m\n\u001b[1;32m   1750\u001b[0m \u001b[38;5;28;01melse\u001b[39;00m:\n\u001b[0;32m-> 1751\u001b[0m     \u001b[38;5;28;01mreturn\u001b[39;00m \u001b[38;5;28;43mself\u001b[39;49m\u001b[38;5;241;43m.\u001b[39;49m\u001b[43m_call_impl\u001b[49m\u001b[43m(\u001b[49m\u001b[38;5;241;43m*\u001b[39;49m\u001b[43margs\u001b[49m\u001b[43m,\u001b[49m\u001b[43m \u001b[49m\u001b[38;5;241;43m*\u001b[39;49m\u001b[38;5;241;43m*\u001b[39;49m\u001b[43mkwargs\u001b[49m\u001b[43m)\u001b[49m\n",
      "File \u001b[0;32m~/miniconda3/envs/tubes-dl/lib/python3.10/site-packages/torch/nn/modules/module.py:1762\u001b[0m, in \u001b[0;36mModule._call_impl\u001b[0;34m(self, *args, **kwargs)\u001b[0m\n\u001b[1;32m   1757\u001b[0m \u001b[38;5;66;03m# If we don't have any hooks, we want to skip the rest of the logic in\u001b[39;00m\n\u001b[1;32m   1758\u001b[0m \u001b[38;5;66;03m# this function, and just call forward.\u001b[39;00m\n\u001b[1;32m   1759\u001b[0m \u001b[38;5;28;01mif\u001b[39;00m \u001b[38;5;129;01mnot\u001b[39;00m (\u001b[38;5;28mself\u001b[39m\u001b[38;5;241m.\u001b[39m_backward_hooks \u001b[38;5;129;01mor\u001b[39;00m \u001b[38;5;28mself\u001b[39m\u001b[38;5;241m.\u001b[39m_backward_pre_hooks \u001b[38;5;129;01mor\u001b[39;00m \u001b[38;5;28mself\u001b[39m\u001b[38;5;241m.\u001b[39m_forward_hooks \u001b[38;5;129;01mor\u001b[39;00m \u001b[38;5;28mself\u001b[39m\u001b[38;5;241m.\u001b[39m_forward_pre_hooks\n\u001b[1;32m   1760\u001b[0m         \u001b[38;5;129;01mor\u001b[39;00m _global_backward_pre_hooks \u001b[38;5;129;01mor\u001b[39;00m _global_backward_hooks\n\u001b[1;32m   1761\u001b[0m         \u001b[38;5;129;01mor\u001b[39;00m _global_forward_hooks \u001b[38;5;129;01mor\u001b[39;00m _global_forward_pre_hooks):\n\u001b[0;32m-> 1762\u001b[0m     \u001b[38;5;28;01mreturn\u001b[39;00m \u001b[43mforward_call\u001b[49m\u001b[43m(\u001b[49m\u001b[38;5;241;43m*\u001b[39;49m\u001b[43margs\u001b[49m\u001b[43m,\u001b[49m\u001b[43m \u001b[49m\u001b[38;5;241;43m*\u001b[39;49m\u001b[38;5;241;43m*\u001b[39;49m\u001b[43mkwargs\u001b[49m\u001b[43m)\u001b[49m\n\u001b[1;32m   1764\u001b[0m result \u001b[38;5;241m=\u001b[39m \u001b[38;5;28;01mNone\u001b[39;00m\n\u001b[1;32m   1765\u001b[0m called_always_called_hooks \u001b[38;5;241m=\u001b[39m \u001b[38;5;28mset\u001b[39m()\n",
      "Cell \u001b[0;32mIn[41], line 56\u001b[0m, in \u001b[0;36mDecoderBlock.forward\u001b[0;34m(self, x)\u001b[0m\n\u001b[1;32m     55\u001b[0m \u001b[38;5;28;01mdef\u001b[39;00m\u001b[38;5;250m \u001b[39m\u001b[38;5;21mforward\u001b[39m(\u001b[38;5;28mself\u001b[39m, x):\n\u001b[0;32m---> 56\u001b[0m     x \u001b[38;5;241m=\u001b[39m x \u001b[38;5;241m+\u001b[39m \u001b[38;5;28;43mself\u001b[39;49m\u001b[38;5;241;43m.\u001b[39;49m\u001b[43mattn\u001b[49m\u001b[43m(\u001b[49m\u001b[38;5;28;43mself\u001b[39;49m\u001b[38;5;241;43m.\u001b[39;49m\u001b[43mln1\u001b[49m\u001b[43m(\u001b[49m\u001b[43mx\u001b[49m\u001b[43m)\u001b[49m\u001b[43m)\u001b[49m\n\u001b[1;32m     57\u001b[0m     x \u001b[38;5;241m=\u001b[39m x \u001b[38;5;241m+\u001b[39m \u001b[38;5;28mself\u001b[39m\u001b[38;5;241m.\u001b[39mff(\u001b[38;5;28mself\u001b[39m\u001b[38;5;241m.\u001b[39mln2(x))\n\u001b[1;32m     58\u001b[0m     \u001b[38;5;28;01mreturn\u001b[39;00m x\n",
      "File \u001b[0;32m~/miniconda3/envs/tubes-dl/lib/python3.10/site-packages/torch/nn/modules/module.py:1751\u001b[0m, in \u001b[0;36mModule._wrapped_call_impl\u001b[0;34m(self, *args, **kwargs)\u001b[0m\n\u001b[1;32m   1749\u001b[0m     \u001b[38;5;28;01mreturn\u001b[39;00m \u001b[38;5;28mself\u001b[39m\u001b[38;5;241m.\u001b[39m_compiled_call_impl(\u001b[38;5;241m*\u001b[39margs, \u001b[38;5;241m*\u001b[39m\u001b[38;5;241m*\u001b[39mkwargs)  \u001b[38;5;66;03m# type: ignore[misc]\u001b[39;00m\n\u001b[1;32m   1750\u001b[0m \u001b[38;5;28;01melse\u001b[39;00m:\n\u001b[0;32m-> 1751\u001b[0m     \u001b[38;5;28;01mreturn\u001b[39;00m \u001b[38;5;28;43mself\u001b[39;49m\u001b[38;5;241;43m.\u001b[39;49m\u001b[43m_call_impl\u001b[49m\u001b[43m(\u001b[49m\u001b[38;5;241;43m*\u001b[39;49m\u001b[43margs\u001b[49m\u001b[43m,\u001b[49m\u001b[43m \u001b[49m\u001b[38;5;241;43m*\u001b[39;49m\u001b[38;5;241;43m*\u001b[39;49m\u001b[43mkwargs\u001b[49m\u001b[43m)\u001b[49m\n",
      "File \u001b[0;32m~/miniconda3/envs/tubes-dl/lib/python3.10/site-packages/torch/nn/modules/module.py:1762\u001b[0m, in \u001b[0;36mModule._call_impl\u001b[0;34m(self, *args, **kwargs)\u001b[0m\n\u001b[1;32m   1757\u001b[0m \u001b[38;5;66;03m# If we don't have any hooks, we want to skip the rest of the logic in\u001b[39;00m\n\u001b[1;32m   1758\u001b[0m \u001b[38;5;66;03m# this function, and just call forward.\u001b[39;00m\n\u001b[1;32m   1759\u001b[0m \u001b[38;5;28;01mif\u001b[39;00m \u001b[38;5;129;01mnot\u001b[39;00m (\u001b[38;5;28mself\u001b[39m\u001b[38;5;241m.\u001b[39m_backward_hooks \u001b[38;5;129;01mor\u001b[39;00m \u001b[38;5;28mself\u001b[39m\u001b[38;5;241m.\u001b[39m_backward_pre_hooks \u001b[38;5;129;01mor\u001b[39;00m \u001b[38;5;28mself\u001b[39m\u001b[38;5;241m.\u001b[39m_forward_hooks \u001b[38;5;129;01mor\u001b[39;00m \u001b[38;5;28mself\u001b[39m\u001b[38;5;241m.\u001b[39m_forward_pre_hooks\n\u001b[1;32m   1760\u001b[0m         \u001b[38;5;129;01mor\u001b[39;00m _global_backward_pre_hooks \u001b[38;5;129;01mor\u001b[39;00m _global_backward_hooks\n\u001b[1;32m   1761\u001b[0m         \u001b[38;5;129;01mor\u001b[39;00m _global_forward_hooks \u001b[38;5;129;01mor\u001b[39;00m _global_forward_pre_hooks):\n\u001b[0;32m-> 1762\u001b[0m     \u001b[38;5;28;01mreturn\u001b[39;00m \u001b[43mforward_call\u001b[49m\u001b[43m(\u001b[49m\u001b[38;5;241;43m*\u001b[39;49m\u001b[43margs\u001b[49m\u001b[43m,\u001b[49m\u001b[43m \u001b[49m\u001b[38;5;241;43m*\u001b[39;49m\u001b[38;5;241;43m*\u001b[39;49m\u001b[43mkwargs\u001b[49m\u001b[43m)\u001b[49m\n\u001b[1;32m   1764\u001b[0m result \u001b[38;5;241m=\u001b[39m \u001b[38;5;28;01mNone\u001b[39;00m\n\u001b[1;32m   1765\u001b[0m called_always_called_hooks \u001b[38;5;241m=\u001b[39m \u001b[38;5;28mset\u001b[39m()\n",
      "Cell \u001b[0;32mIn[41], line 90\u001b[0m, in \u001b[0;36mMultiHeadSelfAttentionRelPos.forward\u001b[0;34m(self, x)\u001b[0m\n\u001b[1;32m     87\u001b[0m scores \u001b[38;5;241m=\u001b[39m scores\u001b[38;5;241m.\u001b[39mmasked_fill(mask \u001b[38;5;241m==\u001b[39m \u001b[38;5;241m0\u001b[39m, \u001b[38;5;28mfloat\u001b[39m(\u001b[38;5;124m'\u001b[39m\u001b[38;5;124m-inf\u001b[39m\u001b[38;5;124m'\u001b[39m))\n\u001b[1;32m     89\u001b[0m attn \u001b[38;5;241m=\u001b[39m torch\u001b[38;5;241m.\u001b[39msoftmax(scores, dim\u001b[38;5;241m=\u001b[39m\u001b[38;5;241m-\u001b[39m\u001b[38;5;241m1\u001b[39m)\n\u001b[0;32m---> 90\u001b[0m attn \u001b[38;5;241m=\u001b[39m \u001b[38;5;28;43mself\u001b[39;49m\u001b[38;5;241;43m.\u001b[39;49m\u001b[43mattn_dropout\u001b[49m(attn)\n\u001b[1;32m     91\u001b[0m out  \u001b[38;5;241m=\u001b[39m (attn \u001b[38;5;241m@\u001b[39m v)\u001b[38;5;241m.\u001b[39mtranspose(\u001b[38;5;241m1\u001b[39m, \u001b[38;5;241m2\u001b[39m)\u001b[38;5;241m.\u001b[39mcontiguous()\u001b[38;5;241m.\u001b[39mview(B, T, D)\n\u001b[1;32m     92\u001b[0m \u001b[38;5;28;01mreturn\u001b[39;00m \u001b[38;5;28mself\u001b[39m\u001b[38;5;241m.\u001b[39mproj_dropout(\u001b[38;5;28mself\u001b[39m\u001b[38;5;241m.\u001b[39mproj(out))\n",
      "File \u001b[0;32m~/miniconda3/envs/tubes-dl/lib/python3.10/site-packages/torch/nn/modules/module.py:1940\u001b[0m, in \u001b[0;36mModule.__getattr__\u001b[0;34m(self, name)\u001b[0m\n\u001b[1;32m   1938\u001b[0m     \u001b[38;5;28;01mif\u001b[39;00m name \u001b[38;5;129;01min\u001b[39;00m modules:\n\u001b[1;32m   1939\u001b[0m         \u001b[38;5;28;01mreturn\u001b[39;00m modules[name]\n\u001b[0;32m-> 1940\u001b[0m \u001b[38;5;28;01mraise\u001b[39;00m \u001b[38;5;167;01mAttributeError\u001b[39;00m(\n\u001b[1;32m   1941\u001b[0m     \u001b[38;5;124mf\u001b[39m\u001b[38;5;124m\"\u001b[39m\u001b[38;5;124m'\u001b[39m\u001b[38;5;132;01m{\u001b[39;00m\u001b[38;5;28mtype\u001b[39m(\u001b[38;5;28mself\u001b[39m)\u001b[38;5;241m.\u001b[39m\u001b[38;5;18m__name__\u001b[39m\u001b[38;5;132;01m}\u001b[39;00m\u001b[38;5;124m'\u001b[39m\u001b[38;5;124m object has no attribute \u001b[39m\u001b[38;5;124m'\u001b[39m\u001b[38;5;132;01m{\u001b[39;00mname\u001b[38;5;132;01m}\u001b[39;00m\u001b[38;5;124m'\u001b[39m\u001b[38;5;124m\"\u001b[39m\n\u001b[1;32m   1942\u001b[0m )\n",
      "\u001b[0;31mAttributeError\u001b[0m: 'MultiHeadSelfAttentionRelPos' object has no attribute 'attn_dropout'"
     ]
    }
   ],
   "source": [
    "train_losses, val_losses = {}, {}\n",
    "for cfg in experiments:\n",
    "    print(f\"\\n>>> Training {cfg['name']}\")\n",
    "    conf = {'vocab_size':vocab_size,'max_len':MAX_SEQ_LEN,'dropout':0.1, **cfg}\n",
    "    model = DecoderOnlyTransformer(conf).to(DEVICE)\n",
    "    opt   = torch.optim.AdamW(model.parameters(),lr=LEARNING_RATE)\n",
    "    crit  = nn.CrossEntropyLoss(ignore_index=token2id[\"<pad>\"])\n",
    "\n",
    "    tl, vl = [], []\n",
    "    for epoch in range(1, 6):  # e.g. 5 epochs\n",
    "        # train\n",
    "        model.train(); total, n = 0,0\n",
    "        for x,y in train_loader:\n",
    "            x,y = x.to(DEVICE), y.to(DEVICE)\n",
    "            logits = model(x)\n",
    "            loss   = crit(logits.view(-1,vocab_size), y.view(-1))\n",
    "            opt.zero_grad(); loss.backward(); opt.step()\n",
    "            total += loss.item(); n+=1\n",
    "        tl.append(total/n)\n",
    "\n",
    "        # valid\n",
    "        model.eval(); total, n = 0,0\n",
    "        with torch.no_grad():\n",
    "            for x,y in val_loader:\n",
    "                x,y = x.to(DEVICE), y.to(DEVICE)\n",
    "                logits = model(x)\n",
    "                loss   = crit(logits.view(-1,vocab_size), y.view(-1))\n",
    "                total += loss.item(); n+=1\n",
    "        vl.append(total/n)\n",
    "        print(f\" Epoch {epoch}: train={tl[-1]:.4f}, val={vl[-1]:.4f}\")\n",
    "\n",
    "    train_losses[cfg['name']] = tl\n",
    "    val_losses[cfg['name']]   = vl"
   ]
  },
  {
   "cell_type": "markdown",
   "id": "ea78ce3c",
   "metadata": {},
   "source": [
    "## **Visualisasi Loss**"
   ]
  },
  {
   "cell_type": "code",
   "execution_count": null,
   "id": "86463f3c",
   "metadata": {},
   "outputs": [
    {
     "data": {
      "image/png": "[encoded data removed]",
      "text/plain": [
       "<Figure size 640x480 with 1 Axes>"
      ]
     },
     "metadata": {},
     "output_type": "display_data"
    }
   ],
   "source": [
    "for name in train_losses:\n",
    "    plt.plot(train_losses[name], marker='o', label=f\"{name} Train\")\n",
    "    plt.plot(val_losses[name],   marker='x', label=f\"{name} Val\")\n",
    "plt.title(\"Train vs Validation Loss\")\n",
    "plt.xlabel(\"Epoch\")\n",
    "plt.ylabel(\"Loss\")\n",
    "plt.legend()\n",
    "plt.grid(True)\n",
    "plt.show()"
   ]
  },
  {
   "cell_type": "markdown",
   "id": "663ec699",
   "metadata": {},
   "source": [
    "## **Inference & Evaluation**"
   ]
  },
  {
   "cell_type": "code",
   "execution_count": null,
   "id": "a89e59e5",
   "metadata": {},
   "outputs": [],
   "source": [
    "# Cell 7: Greedy decoding (sudah ada) dan evaluasi test set\n",
    "preds, refs = [], []\n",
    "for conv in test_raw:\n",
    "    prompt = \"<bos> \" + \" [SEP] \".join(conv[:-1]) + \" <eos>\"\n",
    "    ids    = [token2id.get(t,token2id[\"<pad>\"]) for t in prompt.split()][:MAX_SEQ_LEN]\n",
    "    ids   += [token2id[\"<pad>\"]] * (MAX_SEQ_LEN - len(ids))\n",
    "    input_tensor = torch.tensor([ids]).to(DEVICE)\n",
    "\n",
    "    out_ids = greedy_generate(model, input_tensor, max_new=32)\n",
    "    toks    = [vocab[i] for i in out_ids[0].cpu().tolist()]\n",
    "\n",
    "    # bersihkan <bos>, <pad>, hingga <eos>\n",
    "    gen = []\n",
    "    for tok in toks:\n",
    "        if tok in (\"<bos>\",\"<pad>\"): continue\n",
    "        if tok == \"<eos>\": break\n",
    "        gen.append(tok)\n",
    "    preds.append(\" \".join(gen).replace(\"[SEP]\",\" \").strip())\n",
    "    refs.append(conv[-1])\n",
    "\n",
    "# hitung metrik\n",
    "rouge_res  = rouge.compute(predictions=preds, references=refs)\n",
    "bleu_res   = bleu.compute(\n",
    "    predictions=[p.split() for p in preds],\n",
    "    references=[[r.split()] for r in refs]\n",
    ")\n",
    "meteor_res = meteor.compute(predictions=preds, references=refs)\n",
    "\n",
    "print(\"=== Test Set Evaluation ===\")\n",
    "print(\"ROUGE:\", rouge_res)\n",
    "print(\"BLEU: \", bleu_res)\n",
    "print(\"METEOR:\", meteor_res)\n",
    "\n",
    "# tampilkan 5 contoh\n",
    "print(\"\\n=== Contoh Generasi ===\")\n",
    "for i in range(5):\n",
    "    print(f\"\\nContoh {i+1}\")\n",
    "    print(\" Prompt   :\", \" | \".join(test_raw[i][:-1]))\n",
    "    print(\" Reference:\", refs[i])\n",
    "    print(\" Prediksi :\", preds[i])\n"
   ]
  },
  {
   "cell_type": "markdown",
   "id": "4d97833f",
   "metadata": {},
   "source": [
    "## **Analisis Hasil & Kesimpulan**"
   ]
  },
  {
   "cell_type": "code",
   "execution_count": null,
   "id": "c4335852",
   "metadata": {},
   "outputs": [],
   "source": [
    "# Cell 8: Ranking model per validation loss\n",
    "best_val = {name: min(val_losses[name]) for name in val_losses}\n",
    "df_rank  = pd.DataFrame.from_dict(best_val, orient='index', columns=['BestValLoss'])\n",
    "df_rank  = df_rank.reset_index().rename(columns={'index':'Experiment'})\n",
    "df_rank  = df_rank.sort_values('BestValLoss').reset_index(drop=True)\n",
    "\n",
    "print(\"=== Ranking Model (by Best Val Loss) ===\")\n",
    "print(df_rank.to_string(index=False))\n",
    "\n",
    "# Ringkasan metrik test set (ambil model terbaik)\n",
    "best_model = df_rank.loc[0, 'Experiment']\n",
    "print(f\"\\nModel terbaik: {best_model}\")\n",
    "print(f\"Test ROUGE-1 F1 : {rouge_res['rouge1']:.4f}\")\n",
    "print(f\"Test BLEU       : {bleu_res['bleu']:.4f}\")\n",
    "print(f\"Test METEOR     : {meteor_res['meteor']:.4f}\")\n",
    "\n",
    "# Kesimpulan\n",
    "print(\"\\n=== Kesimpulan ===\")\n",
    "print(f\"Dari kurva loss dan metrik test, varian **{best_model}** memberikan trade-off terbaik antara training stability dan kualitas genera\u0002si dialog.\")\n"
   ]
  }
 ],
 "metadata": {
  "kernelspec": {
   "display_name": "tubes-dl",
   "language": "python",
   "name": "python3"
  },
  "language_info": {
   "codemirror_mode": {
    "name": "ipython",
    "version": 3
   },
   "file_extension": ".py",
   "mimetype": "text/x-python",
   "name": "python",
   "nbconvert_exporter": "python",
   "pygments_lexer": "ipython3",
   "version": "3.10.16"
  }
 },
 "nbformat": 4,
 "nbformat_minor": 5
}
