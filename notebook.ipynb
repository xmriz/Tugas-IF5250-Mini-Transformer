{
 "cells": [
  {
   "cell_type": "markdown",
   "id": "d1e27dd9",
   "metadata": {},
   "source": [
    "# **Mini Transformer for Dialogue Generation**"
   ]
  },
  {
   "cell_type": "markdown",
   "id": "adac1a4e",
   "metadata": {},
   "source": [
    "## **Ringkasan Teori**\n",
    "\n",
    "Decoder-Only Transformer: hanya decoder stack dengan\n",
    "- Token & Positional Embedding\n",
    "- Masked Multi-Head Self-Attention\n",
    "- Feed-Forward Network\n",
    "- Residual + LayerNorm\n",
    " \n",
    "Varian:\n",
    "- vanilla_small / vanilla_big\n",
    "- relpos_small / relpos_big (dengan relative positional bias)"
   ]
  },
  {
   "cell_type": "markdown",
   "id": "c109d395",
   "metadata": {},
   "source": [
    "## **Setup**"
   ]
  },
  {
   "cell_type": "code",
   "execution_count": 96,
   "id": "f4f8939b",
   "metadata": {},
   "outputs": [],
   "source": [
    "import math, random\n",
    "import torch\n",
    "import torch.nn as nn\n",
    "from torch.utils.data import Dataset, DataLoader, random_split\n",
    "from datasets import load_dataset\n",
    "from tqdm import tqdm\n",
    "from collections import Counter\n",
    "import matplotlib.pyplot as plt\n",
    "import evaluate\n",
    "import pandas as pd\n",
    "from IPython.display import display, HTML"
   ]
  },
  {
   "cell_type": "code",
   "execution_count": 97,
   "id": "7f46f636",
   "metadata": {},
   "outputs": [],
   "source": [
    "def set_seed(s=42):\n",
    "    random.seed(s)\n",
    "    torch.manual_seed(s)\n",
    "    torch.cuda.manual_seed_all(s)\n",
    "set_seed()"
   ]
  },
  {
   "cell_type": "code",
   "execution_count": 98,
   "id": "4904b7b4",
   "metadata": {},
   "outputs": [
    {
     "name": "stdout",
     "output_type": "stream",
     "text": [
      "Using device: cuda\n"
     ]
    }
   ],
   "source": [
    "DEVICE = torch.device(\"cuda\" if torch.cuda.is_available() else \"cpu\")\n",
    "print(f\"Using device: {DEVICE}\")"
   ]
  },
  {
   "cell_type": "markdown",
   "id": "29e9ddf0",
   "metadata": {},
   "source": [
    "## **Config**"
   ]
  },
  {
   "cell_type": "code",
   "execution_count": 99,
   "id": "81d39b91",
   "metadata": {},
   "outputs": [],
   "source": [
    "MAX_SEQ_LEN        = 64\n",
    "BATCH_SIZE         = 32\n",
    "NUM_SAMPLES_TRAIN  = 5000\n",
    "NUM_SAMPLES_TEST   = 200\n",
    "VAL_SPLIT_RATIO    = 0.1\n",
    "LEARNING_RATE      = 1e-4"
   ]
  },
  {
   "cell_type": "markdown",
   "id": "fc6d8329",
   "metadata": {},
   "source": [
    "## **Data Loading & EDA**"
   ]
  },
  {
   "cell_type": "code",
   "execution_count": 100,
   "id": "44a3be99",
   "metadata": {},
   "outputs": [],
   "source": [
    "# load dataset\n",
    "ds = load_dataset(\"li2017dailydialog/daily_dialog\")\n",
    "train_all = ds[\"train\"][\"dialog\"]\n",
    "test_all  = ds[\"test\"][\"dialog\"]"
   ]
  },
  {
   "cell_type": "code",
   "execution_count": 101,
   "id": "7675aa86",
   "metadata": {},
   "outputs": [],
   "source": [
    "train_filtered = [conv for conv in train_all if len(conv) <= 8]\n",
    "test_filtered  = [conv for conv in test_all  if len(conv) <= 8]"
   ]
  },
  {
   "cell_type": "code",
   "execution_count": 102,
   "id": "d2a05d94",
   "metadata": {},
   "outputs": [],
   "source": [
    "# terapkan NUM_SAMPLES\n",
    "train_raw = train_filtered[:NUM_SAMPLES_TRAIN]\n",
    "test_raw  = test_filtered[:NUM_SAMPLES_TEST]"
   ]
  },
  {
   "cell_type": "code",
   "execution_count": 104,
   "id": "c939567d",
   "metadata": {},
   "outputs": [
    {
     "name": "stdout",
     "output_type": "stream",
     "text": [
      "Train dataset size (≤8 turns): 5000\n",
      "Test  dataset size (≤8 turns): 200\n"
     ]
    }
   ],
   "source": [
    "print(f\"Train dataset size (≤8 turns): {len(train_raw)}\")\n",
    "print(f\"Test  dataset size (≤8 turns): {len(test_raw)}\")"
   ]
  },
  {
   "cell_type": "code",
   "execution_count": 105,
   "id": "5ad67733",
   "metadata": {},
   "outputs": [
    {
     "name": "stdout",
     "output_type": "stream",
     "text": [
      ">>> 5 contoh train:\n",
      "  ['Can you do push-ups ? ', \" Of course I can . It's a piece of cake ! Believe it or not , I can do 30 push-ups a minute . \", \" Really ? I think that's impossible ! \", ' You mean 30 push-ups ? ', ' Yeah ! ', \" It's easy . If you do exercise everyday , you can make it , too . \"]\n",
      "  ['Can you study with the radio on ? ', ' No , I listen to background music . ', ' What is the difference ? ', ' The radio has too many comerials . ', \" That's true , but then you have to buy a record player . \"]\n",
      "  ['Are you all right ? ', ' I will be all right soon . I was terrified when I watched them fall from the wire . ', \" Don't worry.He is an acrobat 。 \", ' I see . ']\n",
      "  ['Frank ’ s getting married , do you believe this ? ', ' Is he really ? ', ' Yes , he is . He loves the girl very much . ', ' Who is he marring ? ', ' A girl he met on holiday in Spain , I think . ', ' Have they set a date for the wedding ? ', ' Not yet . ']\n",
      "  [\"How are Zina's new programmers working out ? \", \" I hate to admit it , but they're good . And fast . The Filipino kid is a genius . \", \" So you'll make the Stars.com deadline , and have us up and running next week ? \", \" It'll be close , but we'll make it . \", \" Good . After Stars.com starts paying us , we won't need Vikam's cash anymore . \", \" And if we don't need them , we won't need Zina , either . \"]\n",
      "\n",
      ">>> 5 contoh test:\n",
      "  ['The taxi drivers are on strike again . ', ' What for ? ', ' They want the government to reduce the price of the gasoline . ', ' It is really a hot potato . ']\n",
      "  [\"We've managed to reduce our energy consumption in our factory by about 15 per cent in the last two years . \", \" That's excellent . How have you managed that ? \", \" Mainly because we've invested in a heat recovery system . \", ' What does that mean exactly ? ', ' Well , we use the exhaust gases from our printing presses to provide energy to heat our dryers . ', ' What other sources of energy do you use ? ', \" We don't use any fossil fuels . Most of our power comes from hydro-electric plants . We're hoping to use even more energy from alternative sources in the future - perhaps even wind power . \"]\n",
      "  ['What are your personal weaknesses ? ', ' I ’ m afraid I ’ m a poor talker . I ’ m not comfortable talking with the people whom I have just met for the first time . That is not very good for business , so I have been studying public speaking . ', ' Are you more of a leader or a follower ? ', ' I don ’ t try to lead people . I ’ d rather cooperate with everybody , and get the job done by working together . ', ' Do you think you can make yourself easily understood in English ? ', ' Yes , in most circumstances . ', ' Are you available for travel ? ', ' Yes , I like travelling . I am young , and unmarried . It ’ s no problem for me to travel frequently . ']\n",
      "  ['Hello , this is Mike , Kara . ', ' Mike ! Good to hear from you . How are you ? ', ' Everything is fine , and how are you ? ', ' Things are going well with me . ', ' Kara , I had fun the other night at the movies and was wondering if you would like to go out again this Friday . ', \" Mike , I don't think that it's a good idea to go out again . I really need to focus on getting packed and ready to move back home . \", ' Maybe we could just meet for coffee or something . ', \" I can't really deal with any distractions right now , but I appreciate the nice evening we spent together . \"]\n",
      "  ['Sun-set hotel . May I help you ? ', \" Yes , I have booked a room for 24th . It's a double room . \", \" Hold on , please . Let me check it for you . Yes , you're right . You will keep it for 3 days . \", ' Well , now I want to change the date from 24th to 28th . ', ' OK , that shall be arranged . ']\n"
     ]
    }
   ],
   "source": [
    "# tampilkan 5 contoh\n",
    "print(\">>> 5 contoh train:\")\n",
    "for conv in train_raw[:5]:\n",
    "    print(\" \", conv)\n",
    "print(\"\\n>>> 5 contoh test:\")\n",
    "for conv in test_raw[:5]:\n",
    "    print(\" \", conv)"
   ]
  },
  {
   "cell_type": "code",
   "execution_count": 106,
   "id": "977173af",
   "metadata": {},
   "outputs": [
    {
     "data": {
      "image/png": "[encoded data removed]",
      "text/plain": [
       "<Figure size 800x400 with 1 Axes>"
      ]
     },
     "metadata": {},
     "output_type": "display_data"
    }
   ],
   "source": [
    "lengths = [len(c) for c in train_raw]\n",
    "dist    = Counter(lengths)\n",
    "turns, freqs = zip(*sorted(dist.items()))\n",
    "\n",
    "# Plot\n",
    "plt.figure(figsize=(8,4))\n",
    "plt.bar(turns, freqs, edgecolor='k')\n",
    "plt.xlabel(\"Jumlah Turn dalam 1 Dialog\")\n",
    "plt.ylabel(\"Frekuensi Contoh\")\n",
    "plt.title(\"Distribusi Jumlah Turn per Dialog (Train)\")\n",
    "plt.xticks(turns)\n",
    "plt.grid(axis='y', linestyle='--', alpha=0.5)\n",
    "plt.tight_layout()\n",
    "plt.show()"
   ]
  },
  {
   "cell_type": "markdown",
   "id": "adcb92c6",
   "metadata": {},
   "source": [
    "## **Data Preprocessing (Vocab & Dataset)**"
   ]
  },
  {
   "cell_type": "code",
   "execution_count": 107,
   "id": "6671868d",
   "metadata": {},
   "outputs": [],
   "source": [
    "# bangun vocab\n",
    "token_freq = {}\n",
    "for conv in train_raw:\n",
    "    for tok in \" [SEP] \".join(conv).split():\n",
    "        token_freq[tok] = token_freq.get(tok,0) + 1\n",
    "\n",
    "vocab = [\"<pad>\",\"<bos>\",\"<eos>\",\"[SEP]\"] + sorted(token_freq, key=token_freq.get, reverse=True)\n",
    "token2id = {t:i for i,t in enumerate(vocab)}\n",
    "vocab_size = len(vocab)"
   ]
  },
  {
   "cell_type": "code",
   "execution_count": 108,
   "id": "fab44760",
   "metadata": {},
   "outputs": [],
   "source": [
    "# dataset class\n",
    "class DialogDataset(Dataset):\n",
    "    def __init__(self, dialogs, tok2id, max_len):\n",
    "        self.data = []\n",
    "        for conv in dialogs:\n",
    "            seq = [\"<bos>\"] + conv + [\"<eos>\"]\n",
    "            ids = [tok2id.get(t,tok2id[\"<pad>\"]) for t in seq]\n",
    "            ids = ids[:max_len]\n",
    "            ids += [tok2id[\"<pad>\"]] * (max_len - len(ids))\n",
    "            self.data.append(torch.tensor(ids))\n",
    "    def __len__(self): return len(self.data)\n",
    "    def __getitem__(self, i):\n",
    "        x = self.data[i][:-1]\n",
    "        y = self.data[i][1:]\n",
    "        return x, y"
   ]
  },
  {
   "cell_type": "code",
   "execution_count": 109,
   "id": "af8d189b",
   "metadata": {},
   "outputs": [],
   "source": [
    "# split train/val\n",
    "full_ds = DialogDataset(train_raw, token2id, MAX_SEQ_LEN)\n",
    "val_size = int(len(full_ds) * VAL_SPLIT_RATIO)\n",
    "train_size = len(full_ds) - val_size\n",
    "train_ds, val_ds = random_split(full_ds, [train_size, val_size])\n",
    "\n",
    "train_loader = DataLoader(train_ds, batch_size=BATCH_SIZE, shuffle=True, drop_last=True)\n",
    "val_loader   = DataLoader(val_ds,   batch_size=BATCH_SIZE, shuffle=False, drop_last=False)"
   ]
  },
  {
   "cell_type": "markdown",
   "id": "6edfbd8b",
   "metadata": {},
   "source": [
    "## **Arsitektur Transformer**"
   ]
  },
  {
   "cell_type": "code",
   "execution_count": 110,
   "id": "b2c90a65",
   "metadata": {},
   "outputs": [],
   "source": [
    "class PositionalEncoding(nn.Module):\n",
    "    def __init__(self, d_model, max_len):\n",
    "        super().__init__()\n",
    "        pe = torch.zeros(max_len, d_model)\n",
    "        pos = torch.arange(max_len).unsqueeze(1).float()\n",
    "        div = torch.exp(torch.arange(0,d_model,2).float() * (-math.log(10000)/d_model))\n",
    "        pe[:,0::2] = torch.sin(pos*div)\n",
    "        pe[:,1::2] = torch.cos(pos*div)\n",
    "        self.pe = pe.unsqueeze(0)\n",
    "    def forward(self, x):\n",
    "        return x + self.pe[:, :x.size(1)].to(x.device)\n",
    "\n",
    "class MultiHeadSelfAttention(nn.Module):\n",
    "    def __init__(self, d_model, num_heads, dropout=0.1):\n",
    "        super().__init__()\n",
    "        assert d_model%num_heads==0\n",
    "        self.d_head    = d_model//num_heads\n",
    "        self.num_heads = num_heads\n",
    "        self.qkv       = nn.Linear(d_model, 3*d_model)\n",
    "        self.proj      = nn.Linear(d_model, d_model)\n",
    "        self.attn_drop = nn.Dropout(dropout)\n",
    "        self.proj_drop = nn.Dropout(dropout)\n",
    "    def forward(self, x):\n",
    "        B,T,D = x.shape\n",
    "        q,k,v = self.qkv(x).chunk(3,-1)\n",
    "        q = q.view(B,T,self.num_heads,self.d_head).transpose(1,2)\n",
    "        k = k.view(B,T,self.num_heads,self.d_head).transpose(1,2)\n",
    "        v = v.view(B,T,self.num_heads,self.d_head).transpose(1,2)\n",
    "        scores = (q @ k.transpose(-2,-1)) / math.sqrt(self.d_head)\n",
    "        mask   = torch.tril(torch.ones(T,T,device=x.device)).unsqueeze(0).unsqueeze(0)\n",
    "        scores = scores.masked_fill(mask==0, float('-inf'))\n",
    "        attn   = torch.softmax(scores, dim=-1)\n",
    "        attn   = self.attn_drop(attn)\n",
    "        out    = (attn @ v).transpose(1,2).contiguous().view(B,T,D)\n",
    "        return self.proj_drop(self.proj(out))\n",
    "\n",
    "class FeedForward(nn.Module):\n",
    "    def __init__(self, d_model, d_ff, dropout=0.1):\n",
    "        super().__init__()\n",
    "        self.net = nn.Sequential(\n",
    "            nn.Linear(d_model,d_ff),\n",
    "            nn.GELU(),\n",
    "            nn.Linear(d_ff,d_model),\n",
    "            nn.Dropout(dropout)\n",
    "        )\n",
    "    def forward(self,x): return self.net(x)\n",
    "\n",
    "class DecoderBlock(nn.Module):\n",
    "    def __init__(self, d_model, heads, d_ff, dropout=0.1):\n",
    "        super().__init__()\n",
    "        self.ln1  = nn.LayerNorm(d_model)\n",
    "        self.attn = MultiHeadSelfAttention(d_model,heads,dropout)\n",
    "        self.ln2  = nn.LayerNorm(d_model)\n",
    "        self.ff   = FeedForward(d_model,d_ff,dropout)\n",
    "    def forward(self, x):\n",
    "        x = x + self.attn(self.ln1(x))\n",
    "        x = x + self.ff(self.ln2(x))\n",
    "        return x\n",
    "\n",
    "class MultiHeadSelfAttentionRelPos(MultiHeadSelfAttention):\n",
    "    def __init__(self, d_model, num_heads, max_len, dropout=0.1):\n",
    "        super().__init__(d_model, num_heads, dropout)\n",
    "        self.max_len  = max_len\n",
    "        self.rel_bias = nn.Parameter(torch.zeros(num_heads, 2*max_len-1))\n",
    "        coords = torch.arange(max_len)\n",
    "        rel_idx = coords[None, :] - coords[:, None] + (max_len - 1)\n",
    "        self.register_buffer('rel_idx', rel_idx)\n",
    "\n",
    "    def forward(self, x):\n",
    "        B, T, D = x.shape\n",
    "        # QKV\n",
    "        q, k, v = self.qkv(x).chunk(3, dim=-1)\n",
    "        q = q.view(B, T, self.num_heads, self.d_head).transpose(1, 2)\n",
    "        k = k.view(B, T, self.num_heads, self.d_head).transpose(1, 2)\n",
    "        v = v.view(B, T, self.num_heads, self.d_head).transpose(1, 2)\n",
    "\n",
    "        # Scaled dot-product\n",
    "        scores = (q @ k.transpose(-2, -1)) / math.sqrt(self.d_head)\n",
    "\n",
    "        # Add relative bias only for the actual T×T window\n",
    "        rel_bias_T = self.rel_bias[:, self.rel_idx[:T, :T]]  # (H, T, T)\n",
    "        scores = scores + rel_bias_T.unsqueeze(0)            # (B, H, T, T)\n",
    "\n",
    "        # Causal mask\n",
    "        mask = torch.tril(torch.ones(T, T, device=x.device))\n",
    "        mask = mask.unsqueeze(0).unsqueeze(0)\n",
    "        scores = scores.masked_fill(mask == 0, float('-inf'))\n",
    "\n",
    "        # Attention\n",
    "        attn = torch.softmax(scores, dim=-1)\n",
    "        attn = self.attn_drop(attn)   # <— use attn_drop, not attn_dropout\n",
    "        out  = (attn @ v).transpose(1, 2).contiguous().view(B, T, D)\n",
    "        return self.proj_drop(self.proj(out))  # <— use proj_drop, not proj_dropout\n",
    "\n",
    "class DecoderOnlyTransformer(nn.Module):\n",
    "    def __init__(self, cfg):\n",
    "        super().__init__()\n",
    "        self.embed   = nn.Embedding(cfg['vocab_size'],cfg['d_model'])\n",
    "        self.pos_enc = PositionalEncoding(cfg['d_model'],cfg['max_len'])\n",
    "        self.drop    = nn.Dropout(cfg['dropout'])\n",
    "        self.layers  = nn.ModuleList()\n",
    "        for _ in range(cfg['num_layers']):\n",
    "            block = DecoderBlock(cfg['d_model'],cfg['num_heads'],cfg['d_ff'],cfg['dropout'])\n",
    "            if cfg.get('relpos',False):\n",
    "                block.attn = MultiHeadSelfAttentionRelPos(\n",
    "                    cfg['d_model'],cfg['num_heads'],cfg['max_len'],cfg['dropout'])\n",
    "            self.layers.append(block)\n",
    "        self.ln_f = nn.LayerNorm(cfg['d_model'])\n",
    "        self.head = nn.Linear(cfg['d_model'],cfg['vocab_size'],bias=False)\n",
    "    def forward(self,x):\n",
    "        x = self.embed(x)*math.sqrt(x.size(-1))\n",
    "        x = self.pos_enc(x)\n",
    "        x = self.drop(x)\n",
    "        for blk in self.layers: x = blk(x)\n",
    "        x = self.ln_f(x)\n",
    "        return self.head(x)\n",
    "    \n",
    "def greedy_generate(model, ids, max_new=32, max_len=MAX_SEQ_LEN):\n",
    "    model.eval()\n",
    "    out = ids.to(DEVICE)\n",
    "    with torch.no_grad():\n",
    "        for _ in range(max_new):\n",
    "            # keep only the last max_len tokens\n",
    "            inp = out[:, -max_len:]\n",
    "            logits = model(inp)\n",
    "            nt = logits[:, -1, :].argmax(dim=-1, keepdim=True)\n",
    "            out = torch.cat([out, nt], dim=-1)\n",
    "            if nt.item() == token2id[\"<eos>\"]:\n",
    "                break\n",
    "    return out"
   ]
  },
  {
   "cell_type": "code",
   "execution_count": 111,
   "id": "ec9bc8db",
   "metadata": {},
   "outputs": [
    {
     "name": "stderr",
     "output_type": "stream",
     "text": [
      "[nltk_data] Downloading package wordnet to /home/xmriz/nltk_data...\n",
      "[nltk_data]   Package wordnet is already up-to-date!\n",
      "[nltk_data] Downloading package punkt_tab to /home/xmriz/nltk_data...\n",
      "[nltk_data]   Package punkt_tab is already up-to-date!\n",
      "[nltk_data] Downloading package omw-1.4 to /home/xmriz/nltk_data...\n",
      "[nltk_data]   Package omw-1.4 is already up-to-date!\n"
     ]
    }
   ],
   "source": [
    "# Cell 13. Setup evaluasi\n",
    "rouge  = evaluate.load(\"rouge\")\n",
    "bleu   = evaluate.load(\"bleu\")\n",
    "meteor = evaluate.load(\"meteor\")"
   ]
  },
  {
   "cell_type": "markdown",
   "id": "7d450471",
   "metadata": {},
   "source": [
    "## **Pelatihan & Validasi**"
   ]
  },
  {
   "cell_type": "code",
   "execution_count": 112,
   "id": "b0b35606",
   "metadata": {},
   "outputs": [],
   "source": [
    "experiments = [\n",
    "    {'name':'vanilla_small','num_layers':2,'d_model': 64,'num_heads':2,'d_ff':256,'relpos':False},\n",
    "    {'name':'vanilla_big',  'num_layers':2,'d_model':128,'num_heads':4,'d_ff':512,'relpos':False},\n",
    "    {'name':'relpos_small', 'num_layers':2,'d_model': 64,'num_heads':2,'d_ff':256,'relpos':True},\n",
    "    {'name':'relpos_big',   'num_layers':2,'d_model':128,'num_heads':4,'d_ff':512,'relpos':True},\n",
    "]"
   ]
  },
  {
   "cell_type": "code",
   "execution_count": 113,
   "id": "7a3a1c0c",
   "metadata": {},
   "outputs": [
    {
     "name": "stdout",
     "output_type": "stream",
     "text": [
      "\n",
      ">>> Training vanilla_small\n",
      " Epoch 1: train=7.8534, val=5.0715\n",
      " Epoch 2: train=3.7995, val=2.3034\n",
      " Epoch 3: train=1.7068, val=0.8111\n",
      " Epoch 4: train=0.6114, val=0.2841\n",
      " Epoch 5: train=0.2547, val=0.1367\n",
      "\n",
      ">>> Training vanilla_big\n",
      " Epoch 1: train=4.2070, val=0.8298\n",
      " Epoch 2: train=0.4642, val=0.1392\n",
      " Epoch 3: train=0.1218, val=0.0565\n",
      " Epoch 4: train=0.0588, val=0.0316\n",
      " Epoch 5: train=0.0356, val=0.0205\n",
      "\n",
      ">>> Training relpos_small\n",
      " Epoch 1: train=8.6878, val=4.9988\n",
      " Epoch 2: train=3.4554, val=1.8743\n",
      " Epoch 3: train=1.3938, val=0.6202\n",
      " Epoch 4: train=0.5028, val=0.2307\n",
      " Epoch 5: train=0.2228, val=0.1169\n",
      "\n",
      ">>> Training relpos_big\n",
      " Epoch 1: train=4.6678, val=0.8248\n",
      " Epoch 2: train=0.4645, val=0.1364\n",
      " Epoch 3: train=0.1226, val=0.0551\n",
      " Epoch 4: train=0.0590, val=0.0308\n",
      " Epoch 5: train=0.0357, val=0.0200\n"
     ]
    }
   ],
   "source": [
    "train_losses, val_losses = {}, {}\n",
    "for cfg in experiments:\n",
    "    print(f\"\\n>>> Training {cfg['name']}\")\n",
    "    conf = {'vocab_size':vocab_size,'max_len':MAX_SEQ_LEN,'dropout':0.1, **cfg}\n",
    "    model = DecoderOnlyTransformer(conf).to(DEVICE)\n",
    "    opt   = torch.optim.AdamW(model.parameters(),lr=LEARNING_RATE)\n",
    "    crit  = nn.CrossEntropyLoss(ignore_index=token2id[\"<pad>\"])\n",
    "\n",
    "    tl, vl = [], []\n",
    "    for epoch in range(1, 6):  # e.g. 5 epochs\n",
    "        # train\n",
    "        model.train(); total, n = 0,0\n",
    "        for x,y in train_loader:\n",
    "            x,y = x.to(DEVICE), y.to(DEVICE)\n",
    "            logits = model(x)\n",
    "            loss   = crit(logits.view(-1,vocab_size), y.view(-1))\n",
    "            opt.zero_grad(); loss.backward(); opt.step()\n",
    "            total += loss.item(); n+=1\n",
    "        tl.append(total/n)\n",
    "\n",
    "        # valid\n",
    "        model.eval(); total, n = 0,0\n",
    "        with torch.no_grad():\n",
    "            for x,y in val_loader:\n",
    "                x,y = x.to(DEVICE), y.to(DEVICE)\n",
    "                logits = model(x)\n",
    "                loss   = crit(logits.view(-1,vocab_size), y.view(-1))\n",
    "                total += loss.item(); n+=1\n",
    "        vl.append(total/n)\n",
    "        print(f\" Epoch {epoch}: train={tl[-1]:.4f}, val={vl[-1]:.4f}\")\n",
    "\n",
    "    train_losses[cfg['name']] = tl\n",
    "    val_losses[cfg['name']]   = vl"
   ]
  },
  {
   "cell_type": "markdown",
   "id": "ea78ce3c",
   "metadata": {},
   "source": [
    "## **Visualisasi Loss**"
   ]
  },
  {
   "cell_type": "code",
   "execution_count": 114,
   "id": "86463f3c",
   "metadata": {},
   "outputs": [
    {
     "data": {
      "image/png": "[encoded data removed]",
      "text/plain": [
       "<Figure size 640x480 with 1 Axes>"
      ]
     },
     "metadata": {},
     "output_type": "display_data"
    }
   ],
   "source": [
    "colors = plt.rcParams['axes.prop_cycle'].by_key()['color']  \n",
    "for idx, name in enumerate(train_losses):\n",
    "    c = colors[idx % len(colors)]  \n",
    "    plt.plot(train_losses[name],\n",
    "             marker='o',\n",
    "             color=c,\n",
    "             label=f\"{name} Train\")         \n",
    "    plt.plot(val_losses[name],\n",
    "             marker='x',\n",
    "             linestyle='--',\n",
    "             color=c,\n",
    "             label=f\"{name} Val\")           \n",
    "\n",
    "plt.title(\"Train vs Validation Loss\")\n",
    "plt.xlabel(\"Epoch\")\n",
    "plt.ylabel(\"Loss\")\n",
    "plt.legend()\n",
    "plt.grid(True)\n",
    "plt.show()"
   ]
  },
  {
   "cell_type": "markdown",
   "id": "663ec699",
   "metadata": {},
   "source": [
    "## **Inference & Evaluation**"
   ]
  },
  {
   "cell_type": "code",
   "execution_count": 115,
   "id": "a89e59e5",
   "metadata": {},
   "outputs": [],
   "source": [
    "# Cell 7: Greedy decoding (sudah ada) dan evaluasi test set\n",
    "preds, refs = [], []\n",
    "for conv in test_raw:\n",
    "    prompt = \"<bos> \" + \" [SEP] \".join(conv[:-1]) + \" <eos>\"\n",
    "    ids    = [token2id.get(t,token2id[\"<pad>\"]) for t in prompt.split()][:MAX_SEQ_LEN]\n",
    "    ids   += [token2id[\"<pad>\"]] * (MAX_SEQ_LEN - len(ids))\n",
    "    input_tensor = torch.tensor([ids]).to(DEVICE)\n",
    "\n",
    "    out_ids = greedy_generate(model, input_tensor, max_new=32)\n",
    "    toks    = [vocab[i] for i in out_ids[0].cpu().tolist()]\n",
    "\n",
    "    # bersihkan <bos>, <pad>, hingga <eos>\n",
    "    gen = []\n",
    "    for tok in toks:\n",
    "        if tok in (\"<bos>\",\"<pad>\"): continue\n",
    "        if tok == \"<eos>\": break\n",
    "        gen.append(tok)\n",
    "    preds.append(\" \".join(gen).replace(\"[SEP]\",\" \").strip())\n",
    "    refs.append(conv[-1])\n"
   ]
  },
  {
   "cell_type": "code",
   "execution_count": 120,
   "id": "6cc3dbb8",
   "metadata": {},
   "outputs": [
    {
     "data": {
      "text/html": [
       "<style type=\"text/css\">\n",
       "#T_cabdb th {\n",
       "  text-align: left;\n",
       "}\n",
       "#T_cabdb td {\n",
       "  text-align: right;\n",
       "}\n",
       "#T_cabdb table {\n",
       "  width: 50%;\n",
       "  margin: 0 auto;\n",
       "}\n",
       "</style>\n",
       "<table id=\"T_cabdb\">\n",
       "  <thead>\n",
       "    <tr>\n",
       "      <th class=\"blank level0\" >&nbsp;</th>\n",
       "      <th id=\"T_cabdb_level0_col0\" class=\"col_heading level0 col0\" >Metric</th>\n",
       "      <th id=\"T_cabdb_level0_col1\" class=\"col_heading level0 col1\" >Score</th>\n",
       "    </tr>\n",
       "  </thead>\n",
       "  <tbody>\n",
       "    <tr>\n",
       "      <th id=\"T_cabdb_level0_row0\" class=\"row_heading level0 row0\" >0</th>\n",
       "      <td id=\"T_cabdb_row0_col0\" class=\"data row0 col0\" >ROUGE-1</td>\n",
       "      <td id=\"T_cabdb_row0_col1\" class=\"data row0 col1\" >0.1034</td>\n",
       "    </tr>\n",
       "    <tr>\n",
       "      <th id=\"T_cabdb_level0_row1\" class=\"row_heading level0 row1\" >1</th>\n",
       "      <td id=\"T_cabdb_row1_col0\" class=\"data row1 col0\" >ROUGE-2</td>\n",
       "      <td id=\"T_cabdb_row1_col1\" class=\"data row1 col1\" >0.0130</td>\n",
       "    </tr>\n",
       "    <tr>\n",
       "      <th id=\"T_cabdb_level0_row2\" class=\"row_heading level0 row2\" >2</th>\n",
       "      <td id=\"T_cabdb_row2_col0\" class=\"data row2 col0\" >ROUGE-L</td>\n",
       "      <td id=\"T_cabdb_row2_col1\" class=\"data row2 col1\" >0.0813</td>\n",
       "    </tr>\n",
       "    <tr>\n",
       "      <th id=\"T_cabdb_level0_row3\" class=\"row_heading level0 row3\" >3</th>\n",
       "      <td id=\"T_cabdb_row3_col0\" class=\"data row3 col0\" >ROUGE-Lsum</td>\n",
       "      <td id=\"T_cabdb_row3_col1\" class=\"data row3 col1\" >0.0811</td>\n",
       "    </tr>\n",
       "    <tr>\n",
       "      <th id=\"T_cabdb_level0_row4\" class=\"row_heading level0 row4\" >4</th>\n",
       "      <td id=\"T_cabdb_row4_col0\" class=\"data row4 col0\" >BLEU</td>\n",
       "      <td id=\"T_cabdb_row4_col1\" class=\"data row4 col1\" >0.0074</td>\n",
       "    </tr>\n",
       "    <tr>\n",
       "      <th id=\"T_cabdb_level0_row5\" class=\"row_heading level0 row5\" >5</th>\n",
       "      <td id=\"T_cabdb_row5_col0\" class=\"data row5 col0\" >BLEU_bp</td>\n",
       "      <td id=\"T_cabdb_row5_col1\" class=\"data row5 col1\" >1.0000</td>\n",
       "    </tr>\n",
       "    <tr>\n",
       "      <th id=\"T_cabdb_level0_row6\" class=\"row_heading level0 row6\" >6</th>\n",
       "      <td id=\"T_cabdb_row6_col0\" class=\"data row6 col0\" >METEOR</td>\n",
       "      <td id=\"T_cabdb_row6_col1\" class=\"data row6 col1\" >0.1685</td>\n",
       "    </tr>\n",
       "  </tbody>\n",
       "</table>\n"
      ],
      "text/plain": [
       "<pandas.io.formats.style.Styler at 0x7fddfd27bf10>"
      ]
     },
     "metadata": {},
     "output_type": "display_data"
    }
   ],
   "source": [
    "# hitung metrik\n",
    "rouge_res  = rouge.compute(predictions=preds, references=refs)\n",
    "bleu_res   = bleu.compute(\n",
    "    predictions=preds,\n",
    "    references=[[r] for r in refs]    # wrap tiap ref dalam list\n",
    ")\n",
    "meteor_res = meteor.compute(predictions=preds, references=refs)\n",
    "\n",
    "metrics = {\n",
    "    \"Metric\": [\n",
    "        \"ROUGE-1\", \"ROUGE-2\", \"ROUGE-L\", \"ROUGE-Lsum\",\n",
    "        \"BLEU\", \"BLEU_bp\", \"METEOR\"\n",
    "    ],\n",
    "    \"Score\": [\n",
    "        rouge_res['rouge1'],\n",
    "        rouge_res['rouge2'],\n",
    "        rouge_res['rougeL'],\n",
    "        rouge_res['rougeLsum'],\n",
    "        bleu_res['bleu'],\n",
    "        bleu_res['brevity_penalty'],\n",
    "        meteor_res['meteor']\n",
    "    ]\n",
    "}\n",
    "\n",
    "df_metrics = pd.DataFrame(metrics)\n",
    "df_metrics[\"Score\"] = df_metrics[\"Score\"].map(lambda x: f\"{x:.4f}\")\n",
    "\n",
    "display(df_metrics.style.set_table_styles([\n",
    "    {\"selector\":\"th\", \"props\":[(\"text-align\",\"left\")]},\n",
    "    {\"selector\":\"td\", \"props\":[(\"text-align\",\"right\")]},\n",
    "    {\"selector\":\"table\", \"props\":[(\"width\",\"50%\"),(\"margin\",\"0 auto\")]}\n",
    "]))"
   ]
  },
  {
   "cell_type": "code",
   "execution_count": 119,
   "id": "1213b24a",
   "metadata": {},
   "outputs": [
    {
     "data": {
      "text/html": [
       "<style type=\"text/css\">\n",
       "#T_3c86a th {\n",
       "  text-align: left;\n",
       "  font-weight: bold;\n",
       "}\n",
       "#T_3c86a td {\n",
       "  text-align: left;\n",
       "  white-space: pre-wrap;\n",
       "}\n",
       "#T_3c86a table {\n",
       "  width: 100%;\n",
       "  table-layout: fixed;\n",
       "}\n",
       "#T_3c86a_row0_col0, #T_3c86a_row0_col1, #T_3c86a_row0_col2, #T_3c86a_row1_col0, #T_3c86a_row1_col1, #T_3c86a_row1_col2, #T_3c86a_row2_col0, #T_3c86a_row2_col1, #T_3c86a_row2_col2, #T_3c86a_row3_col0, #T_3c86a_row3_col1, #T_3c86a_row3_col2, #T_3c86a_row4_col0, #T_3c86a_row4_col1, #T_3c86a_row4_col2 {\n",
       "  white-space: pre-wrap;\n",
       "}\n",
       "</style>\n",
       "<table id=\"T_3c86a\">\n",
       "  <thead>\n",
       "    <tr>\n",
       "      <th class=\"blank level0\" >&nbsp;</th>\n",
       "      <th id=\"T_3c86a_level0_col0\" class=\"col_heading level0 col0\" >Prompt</th>\n",
       "      <th id=\"T_3c86a_level0_col1\" class=\"col_heading level0 col1\" >Reference</th>\n",
       "      <th id=\"T_3c86a_level0_col2\" class=\"col_heading level0 col2\" >Prediction</th>\n",
       "    </tr>\n",
       "  </thead>\n",
       "  <tbody>\n",
       "    <tr>\n",
       "      <th id=\"T_3c86a_level0_row0\" class=\"row_heading level0 row0\" >0</th>\n",
       "      <td id=\"T_3c86a_row0_col0\" class=\"data row0 col0\" >The taxi drivers are on strike again . &lt;br&gt; What for ? &lt;br&gt; They want the government to reduce the price of the gasoline . </td>\n",
       "      <td id=\"T_3c86a_row0_col1\" class=\"data row0 col1\" > It is really a hot potato . </td>\n",
       "      <td id=\"T_3c86a_row0_col2\" class=\"data row0 col2\" >The taxi drivers are on strike again .   What for ?   They want the government to reduce the price of the gasoline .</td>\n",
       "    </tr>\n",
       "    <tr>\n",
       "      <th id=\"T_3c86a_level0_row1\" class=\"row_heading level0 row1\" >1</th>\n",
       "      <td id=\"T_3c86a_row1_col0\" class=\"data row1 col0\" >We&#39;ve managed to reduce our energy consumption in our factory by about 15 per cent in the last two years . &lt;br&gt; That&#39;s excellent . How have you managed that ? &lt;br&gt; Mainly because we&#39;ve invested in a heat recovery system . &lt;br&gt; What does that mean exactly ? &lt;br&gt; Well , we use the exhaust gases from our printing presses to provide energy to heat our dryers . &lt;br&gt; What other sources of energy do you use ? </td>\n",
       "      <td id=\"T_3c86a_row1_col1\" class=\"data row1 col1\" > We don&#39;t use any fossil fuels . Most of our power comes from hydro-electric plants . We&#39;re hoping to use even more energy from alternative sources in the future - perhaps even wind power . </td>\n",
       "      <td id=\"T_3c86a_row1_col2\" class=\"data row1 col2\" >We&#39;ve managed to reduce our energy consumption in our factory by about 15 per cent in the last two years .   That&#39;s excellent . How have you managed that ?   because we&#39;ve invested in a heat recovery system .   What does that mean exactly ?   Well , we use the from our printing to provide editor</td>\n",
       "    </tr>\n",
       "    <tr>\n",
       "      <th id=\"T_3c86a_level0_row2\" class=\"row_heading level0 row2\" >2</th>\n",
       "      <td id=\"T_3c86a_row2_col0\" class=\"data row2 col0\" >What are your personal weaknesses ? &lt;br&gt; I ’ m afraid I ’ m a poor talker . I ’ m not comfortable talking with the people whom I have just met for the first time . That is not very good for business , so I have been studying public speaking . &lt;br&gt; Are you more of a leader or a follower ? &lt;br&gt; I don ’ t try to lead people . I ’ d rather cooperate with everybody , and get the job done by working together . &lt;br&gt; Do you think you can make yourself easily understood in English ? &lt;br&gt; Yes , in most circumstances . &lt;br&gt; Are you available for travel ? </td>\n",
       "      <td id=\"T_3c86a_row2_col1\" class=\"data row2 col1\" > Yes , I like travelling . I am young , and unmarried . It ’ s no problem for me to travel frequently . </td>\n",
       "      <td id=\"T_3c86a_row2_col2\" class=\"data row2 col2\" >What are your personal weaknesses ?   I ’ m afraid I ’ m a poor . I ’ m not comfortable talking with the people whom I have just met for the first time . That is not very good for business , so I have been studying public speaking .   Are you more of a leader or a follower seats</td>\n",
       "    </tr>\n",
       "    <tr>\n",
       "      <th id=\"T_3c86a_level0_row3\" class=\"row_heading level0 row3\" >3</th>\n",
       "      <td id=\"T_3c86a_row3_col0\" class=\"data row3 col0\" >Hello , this is Mike , Kara . &lt;br&gt; Mike ! Good to hear from you . How are you ? &lt;br&gt; Everything is fine , and how are you ? &lt;br&gt; Things are going well with me . &lt;br&gt; Kara , I had fun the other night at the movies and was wondering if you would like to go out again this Friday . &lt;br&gt; Mike , I don&#39;t think that it&#39;s a good idea to go out again . I really need to focus on getting packed and ready to move back home . &lt;br&gt; Maybe we could just meet for coffee or something . </td>\n",
       "      <td id=\"T_3c86a_row3_col1\" class=\"data row3 col1\" > I can&#39;t really deal with any distractions right now , but I appreciate the nice evening we spent together . </td>\n",
       "      <td id=\"T_3c86a_row3_col2\" class=\"data row3 col2\" >Hello , this is Mike , .   Mike ! Good to hear from you . How are you ?   Everything is fine , and how are you ?   Things are going well with me .   , I had fun the other night at the movies and was wondering if you would like to go out again this</td>\n",
       "    </tr>\n",
       "    <tr>\n",
       "      <th id=\"T_3c86a_level0_row4\" class=\"row_heading level0 row4\" >4</th>\n",
       "      <td id=\"T_3c86a_row4_col0\" class=\"data row4 col0\" >Sun-set hotel . May I help you ? &lt;br&gt; Yes , I have booked a room for 24th . It&#39;s a double room . &lt;br&gt; Hold on , please . Let me check it for you . Yes , you&#39;re right . You will keep it for 3 days . &lt;br&gt; Well , now I want to change the date from 24th to 28th . </td>\n",
       "      <td id=\"T_3c86a_row4_col1\" class=\"data row4 col1\" > OK , that shall be arranged . </td>\n",
       "      <td id=\"T_3c86a_row4_col2\" class=\"data row4 col2\" >hotel . May I help you ?   Yes , I have booked a room for 24th . It&#39;s a double room .   Hold on , please . Let me check it for you . Yes , you&#39;re right . You will keep it for 3 days .   Well , now I want to change the date from 24th to please one.It assignments oblong-shaped</td>\n",
       "    </tr>\n",
       "  </tbody>\n",
       "</table>\n"
      ],
      "text/plain": [
       "<IPython.core.display.HTML object>"
      ]
     },
     "metadata": {},
     "output_type": "display_data"
    }
   ],
   "source": [
    "# Ambil 5 contoh pertama\n",
    "examples    = test_raw[:5]\n",
    "prompts     = [\"<br>\".join(conv[:-1]) for conv in examples]  # gunakan <br> sebagai pemisah\n",
    "references  = refs[:5]\n",
    "predictions = preds[:5]\n",
    "\n",
    "# Buat DataFrame\n",
    "df_examples = pd.DataFrame({\n",
    "    \"Prompt\":     prompts,\n",
    "    \"Reference\":  references,\n",
    "    \"Prediction\": predictions\n",
    "})\n",
    "\n",
    "# Atur style agar teks panjang ter‐bungkus, tabel melebar, dan HTML tidak di-escape\n",
    "styles = [\n",
    "    {\"selector\": \"th\",    \"props\": [(\"text-align\", \"left\"), (\"font-weight\", \"bold\")]},\n",
    "    {\"selector\": \"td\",    \"props\": [(\"text-align\", \"left\"), (\"white-space\", \"pre-wrap\")]},\n",
    "    {\"selector\": \"table\", \"props\": [(\"width\", \"100%\"), (\"table-layout\", \"fixed\")]},\n",
    "]\n",
    "\n",
    "# Siapkan Styler tanpa escape HTML\n",
    "styler = df_examples.style.set_table_styles(styles).set_properties(**{\"white-space\":\"pre-wrap\"}).format(escape=\"html\")\n",
    "\n",
    "# Tampilkan\n",
    "display(HTML(styler.to_html()))"
   ]
  },
  {
   "cell_type": "markdown",
   "id": "4d97833f",
   "metadata": {},
   "source": [
    "## **Analisis Hasil & Kesimpulan**"
   ]
  },
  {
   "cell_type": "code",
   "execution_count": 118,
   "id": "c4335852",
   "metadata": {},
   "outputs": [
    {
     "name": "stdout",
     "output_type": "stream",
     "text": [
      "=== Ranking Model (by Best Val Loss) ===\n",
      "   Experiment  BestValLoss\n",
      "   relpos_big     0.019978\n",
      "  vanilla_big     0.020543\n",
      " relpos_small     0.116872\n",
      "vanilla_small     0.136720\n",
      "\n",
      "Model terbaik: relpos_big\n",
      "Test ROUGE-1 F1 : 0.1034\n",
      "Test BLEU       : 0.0074\n",
      "Test METEOR     : 0.1685\n",
      "\n",
      "=== Kesimpulan ===\n",
      "Dari kurva loss dan metrik test, varian **relpos_big** memberikan trade-off terbaik antara training stability dan kualitas genera\u0002si dialog.\n"
     ]
    }
   ],
   "source": [
    "# Cell 8: Ranking model per validation loss\n",
    "best_val = {name: min(val_losses[name]) for name in val_losses}\n",
    "df_rank  = pd.DataFrame.from_dict(best_val, orient='index', columns=['BestValLoss'])\n",
    "df_rank  = df_rank.reset_index().rename(columns={'index':'Experiment'})\n",
    "df_rank  = df_rank.sort_values('BestValLoss').reset_index(drop=True)\n",
    "\n",
    "print(\"=== Ranking Model (by Best Val Loss) ===\")\n",
    "print(df_rank.to_string(index=False))\n",
    "\n",
    "# Ringkasan metrik test set (ambil model terbaik)\n",
    "best_model = df_rank.loc[0, 'Experiment']\n",
    "print(f\"\\nModel terbaik: {best_model}\")\n",
    "print(f\"Test ROUGE-1 F1 : {rouge_res['rouge1']:.4f}\")\n",
    "print(f\"Test BLEU       : {bleu_res['bleu']:.4f}\")\n",
    "print(f\"Test METEOR     : {meteor_res['meteor']:.4f}\")\n",
    "\n",
    "# Kesimpulan\n",
    "print(\"\\n=== Kesimpulan ===\")\n",
    "print(f\"Dari kurva loss dan metrik test, varian **{best_model}** memberikan trade-off terbaik antara training stability dan kualitas genera\u0002si dialog.\")\n"
   ]
  }
 ],
 "metadata": {
  "kernelspec": {
   "display_name": "tubes-dl",
   "language": "python",
   "name": "python3"
  },
  "language_info": {
   "codemirror_mode": {
    "name": "ipython",
    "version": 3
   },
   "file_extension": ".py",
   "mimetype": "text/x-python",
   "name": "python",
   "nbconvert_exporter": "python",
   "pygments_lexer": "ipython3",
   "version": "3.10.16"
  }
 },
 "nbformat": 4,
 "nbformat_minor": 5
}
